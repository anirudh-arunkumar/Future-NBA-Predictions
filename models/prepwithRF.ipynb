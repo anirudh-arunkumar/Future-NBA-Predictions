{
 "cells": [
  {
   "cell_type": "code",
   "execution_count": 1,
   "metadata": {},
   "outputs": [],
   "source": [
    "import numpy as np\n",
    "import pandas as pd\n",
    "import seaborn as sns\n",
    "import matplotlib.pyplot as plt\n",
    "from sklearn.decomposition import PCA\n",
    "from sklearn import preprocessing\n",
    "from sklearn.preprocessing import StandardScaler\n",
    "from mpl_toolkits.mplot3d import Axes3D\n",
    "import plotly.express as px\n",
    "from sklearn.cluster import DBSCAN\n",
    "from sklearn.linear_model import Lasso\n",
    "from sklearn.linear_model import LogisticRegression\n",
    "from sklearn.linear_model import LinearRegression\n",
    "from sklearn.metrics import confusion_matrix, accuracy_score, roc_auc_score, f1_score, precision_score, recall_score\n",
    "from sklearn.model_selection import train_test_split\n",
    "from sklearn.metrics import roc_curve, auc\n",
    "from sklearn.ensemble import RandomForestClassifier\n",
    "from sklearn.metrics import accuracy_score, classification_report\n",
    "from sklearn.model_selection import train_test_split\n",
    "import matplotlib.pyplot as plt\n",
    "from sklearn.model_selection import GridSearchCV\n",
    "from collections import Counter"
   ]
  },
  {
   "cell_type": "code",
   "execution_count": 2,
   "metadata": {},
   "outputs": [
    {
     "data": {
      "image/png": "[encoded data removed]",
      "text/plain": [
       "<Figure size 432x288 with 1 Axes>"
      ]
     },
     "metadata": {
      "needs_background": "light"
     },
     "output_type": "display_data"
    },
    {
     "name": "stdout",
     "output_type": "stream",
     "text": [
      "PC2     0.201563\n",
      "PC6     0.192061\n",
      "PC9     0.093385\n",
      "PC8     0.053768\n",
      "PC5     0.022722\n",
      "PC3     0.011284\n",
      "PC4     0.003929\n",
      "PC7    -0.059350\n",
      "PC10   -0.107302\n",
      "PC1    -0.737142\n",
      "Name: wl_home, dtype: float64\n"
     ]
    }
   ],
   "source": [
    "gameDataframe = pd.read_csv(\"game.csv\")\n",
    "# print(gameDataframe)\n",
    "gameDataframe['game_date'] = pd.to_datetime(gameDataframe['game_date'])\n",
    "\n",
    "# Filter the data to only include rows from 2000 onwards\n",
    "filtered_df = gameDataframe[gameDataframe['game_date'].dt.year >= 2000].copy()\n",
    "# print(filtered_df)\n",
    "\n",
    "filtered_df['wl_home'] = filtered_df['wl_home'].map({'W': 1, 'L': 0})\n",
    "filtered_df = filtered_df.reset_index(drop=True)\n",
    "\n",
    "#####\n",
    "\n",
    "non_numeric_columns = filtered_df.select_dtypes(exclude =[np.number]).columns\n",
    "filtered_df = filtered_df.select_dtypes(include = [np.number])\n",
    "\n",
    "####\n",
    "\n",
    "correlations = filtered_df.corr()['wl_home'].abs().sort_values(ascending=False)\n",
    "remainingFeatures = correlations[correlations > .15].index #indexes of all features with a correlations above 15 percent towards the win or loss of a home team\n",
    "# print(remainingFeatures)\n",
    "\n",
    "scaler = StandardScaler()\n",
    "reducedData = filtered_df[remainingFeatures].drop(columns=['wl_home'])\n",
    "scaledData = scaler.fit_transform(reducedData)\n",
    "pca = PCA()\n",
    "# pca.fit(scaledData)\n",
    "pcaData = pca.fit_transform(scaledData)\n",
    "\n",
    "percentVar = np.round(pca.explained_variance_ratio_*100,decimals= 1)\n",
    "labels = ['PC' + str(x) for x in range(1,len(percentVar) + 1)]\n",
    "plt.bar(x = range(1,len(percentVar)+1),height=percentVar,tick_label = labels)\n",
    "plt.ylabel('Percentage of Explained Variance')\n",
    "plt.xlabel('Principal Component')\n",
    "plt.title('Scree Plot')\n",
    "plt.show()\n",
    "\n",
    "\n",
    "pca_df = pd.DataFrame(pcaData[:,:10], columns=[f'PC{i+1}' for i in range(10)]) #top 10 principal components account for ~90% variance \n",
    "pca_df['wl_home'] = filtered_df['wl_home']\n",
    "correlations_with_win = pca_df.corr()['wl_home'].drop('wl_home').sort_values(ascending=False)\n",
    "# print(filtered_df['wl_home'])\n",
    "# print(pca_df)\n",
    "print(correlations_with_win)"
   ]
  },
  {
   "cell_type": "markdown",
   "metadata": {},
   "source": [
    "Observing the Scree plot give us insight towards the Principal Components that contribute the highest percentage of variance in general. It's important to note that this is general variance, not variance directly pertaining towards the win or loss of the home team. \n",
    "\n",
    "Conversely, the printed correlations are tied directly to the win or loss of the home team for each Principal Component. As we can see, the most explanatory principal component is PC1, which is negatively correlated with the win or loss of the home team. Meaning, if there is a high value for PC1 in a given game, that game lends itself to being more likely to having been a loss for the home team. While other factors such as PC2 and PC6 are among the higher correlated PC's with W/L, their correlation contstant is not nearly as dominant as PC1's.\n",
    "\n",
    "It's important to note, this is data collected after the fact. Since our model is looking to predict the outcome of games, these statistics can't necessarily help us as we have no indication as to how these features will play out in a given game. However, there is some merit into observing the cumulative of these values leading up to each game. If a team is consistently putting up high contributions towards the PC1 feature, for example, we could therefore assume it is less likely they will win their following game."
   ]
  },
  {
   "cell_type": "code",
   "execution_count": 3,
   "metadata": {},
   "outputs": [
    {
     "name": "stdout",
     "output_type": "stream",
     "text": [
      "Index(['wl_home', 'plus_minus_home', 'fg3_pct_home', 'fg_pct_home',\n",
      "       'dreb_home', 'reb_home', 'stl_home', 'pts_home', 'fgm_home', 'ftm_home',\n",
      "       'tov_away', 'fta_home', 'pf_away', 'fg3a_away'],\n",
      "      dtype='object')\n",
      "Index(['PC1', 'PC4', 'PC10', 'PC2', 'PC7', 'PC9', 'PC5'], dtype='object')\n"
     ]
    },
    {
     "data": {
      "image/png": "[encoded data removed]",
      "text/plain": [
       "<Figure size 720x432 with 1 Axes>"
      ]
     },
     "metadata": {
      "needs_background": "light"
     },
     "output_type": "display_data"
    },
    {
     "data": {
      "application/vnd.plotly.v1+json": {
       "config": {
        "plotlyServerURL": "https://plot.ly"
       },
       "data": [
        {
         "hovertemplate": "win_category=Above 50%<br>PC1=%{x}<br>PC4=%{y}<extra></extra>",
         "legendgroup": "Above 50%",
         "marker": {
          "color": "#636efa",
          "symbol": "circle"
         },
         "mode": "markers",
         "name": "Above 50%",
         "orientation": "v",
         "showlegend": true,
         "type": "scatter",
         "x": [
          -3.4830589259509286,
          1.2146074927114932,
          1.4147747854734434,
          -0.5817197986825955,
          -0.6478829964487715,
          -1.7918623505601459,
          -3.227420722333129,
          -1.6031161487707661,
          0.12316124716926401,
          0.6392519472426695,
          0.3990742482441745,
          -1.09158822033436,
          -3.9253952434398647,
          -2.171369331004545,
          1.638055161578823,
          -0.33879571490009525,
          -0.8238345234026307,
          -1.642256925605654
         ],
         "xaxis": "x",
         "y": [
          1.420062886273238,
          0.4012877751001722,
          -0.7505293603055322,
          -1.67267995228563,
          -1.8784598282471228,
          0.06415930042360699,
          -1.2199684408635187,
          0.7786580002356179,
          -0.6549340725048765,
          0.9579690869863177,
          -0.8747453886254039,
          -0.12842340132674734,
          0.03677209136433417,
          -0.8293290938545059,
          -1.0332294382305953,
          -0.28807942118695057,
          1.7393818510384729,
          -1.612647584085202
         ],
         "yaxis": "y"
        },
        {
         "hovertemplate": "win_category=Below 50%<br>PC1=%{x}<br>PC4=%{y}<extra></extra>",
         "legendgroup": "Below 50%",
         "marker": {
          "color": "#EF553B",
          "symbol": "circle"
         },
         "mode": "markers",
         "name": "Below 50%",
         "orientation": "v",
         "showlegend": true,
         "type": "scatter",
         "x": [
          2.414514719496018,
          3.808102692483611,
          0.0294210810852293,
          -0.026369019547455935,
          1.650629398178178,
          0.8656075756792398,
          -0.046831349140135835,
          0.6868151514634007,
          4.8471876758092804,
          0.8392640448953778,
          0.18932511946380753,
          0.6417089291470625
         ],
         "xaxis": "x",
         "y": [
          -1.2220030808336408,
          -0.6345328336703434,
          0.4684498790043926,
          1.3476737238204268,
          0.07578338019024276,
          0.4132942816840837,
          2.2420772849379818,
          -0.5449794249520504,
          0.6966066633915087,
          0.13216045250928607,
          1.3153885780197092,
          1.2548160859927295
         ],
         "yaxis": "y"
        }
       ],
       "layout": {
        "legend": {
         "title": {
          "text": "win_category"
         },
         "tracegroupgap": 0
        },
        "margin": {
         "t": 60
        },
        "template": {
         "data": {
          "bar": [
           {
            "error_x": {
             "color": "#2a3f5f"
            },
            "error_y": {
             "color": "#2a3f5f"
            },
            "marker": {
             "line": {
              "color": "#E5ECF6",
              "width": 0.5
             },
             "pattern": {
              "fillmode": "overlay",
              "size": 10,
              "solidity": 0.2
             }
            },
            "type": "bar"
           }
          ],
          "barpolar": [
           {
            "marker": {
             "line": {
              "color": "#E5ECF6",
              "width": 0.5
             },
             "pattern": {
              "fillmode": "overlay",
              "size": 10,
              "solidity": 0.2
             }
            },
            "type": "barpolar"
           }
          ],
          "carpet": [
           {
            "aaxis": {
             "endlinecolor": "#2a3f5f",
             "gridcolor": "white",
             "linecolor": "white",
             "minorgridcolor": "white",
             "startlinecolor": "#2a3f5f"
            },
            "baxis": {
             "endlinecolor": "#2a3f5f",
             "gridcolor": "white",
             "linecolor": "white",
             "minorgridcolor": "white",
             "startlinecolor": "#2a3f5f"
            },
            "type": "carpet"
           }
          ],
          "choropleth": [
           {
            "colorbar": {
             "outlinewidth": 0,
             "ticks": ""
            },
            "type": "choropleth"
           }
          ],
          "contour": [
           {
            "colorbar": {
             "outlinewidth": 0,
             "ticks": ""
            },
            "colorscale": [
             [
              0,
              "#0d0887"
             ],
             [
              0.1111111111111111,
              "#46039f"
             ],
             [
              0.2222222222222222,
              "#7201a8"
             ],
             [
              0.3333333333333333,
              "#9c179e"
             ],
             [
              0.4444444444444444,
              "#bd3786"
             ],
             [
              0.5555555555555556,
              "#d8576b"
             ],
             [
              0.6666666666666666,
              "#ed7953"
             ],
             [
              0.7777777777777778,
              "#fb9f3a"
             ],
             [
              0.8888888888888888,
              "#fdca26"
             ],
             [
              1,
              "#f0f921"
             ]
            ],
            "type": "contour"
           }
          ],
          "contourcarpet": [
           {
            "colorbar": {
             "outlinewidth": 0,
             "ticks": ""
            },
            "type": "contourcarpet"
           }
          ],
          "heatmap": [
           {
            "colorbar": {
             "outlinewidth": 0,
             "ticks": ""
            },
            "colorscale": [
             [
              0,
              "#0d0887"
             ],
             [
              0.1111111111111111,
              "#46039f"
             ],
             [
              0.2222222222222222,
              "#7201a8"
             ],
             [
              0.3333333333333333,
              "#9c179e"
             ],
             [
              0.4444444444444444,
              "#bd3786"
             ],
             [
              0.5555555555555556,
              "#d8576b"
             ],
             [
              0.6666666666666666,
              "#ed7953"
             ],
             [
              0.7777777777777778,
              "#fb9f3a"
             ],
             [
              0.8888888888888888,
              "#fdca26"
             ],
             [
              1,
              "#f0f921"
             ]
            ],
            "type": "heatmap"
           }
          ],
          "heatmapgl": [
           {
            "colorbar": {
             "outlinewidth": 0,
             "ticks": ""
            },
            "colorscale": [
             [
              0,
              "#0d0887"
             ],
             [
              0.1111111111111111,
              "#46039f"
             ],
             [
              0.2222222222222222,
              "#7201a8"
             ],
             [
              0.3333333333333333,
              "#9c179e"
             ],
             [
              0.4444444444444444,
              "#bd3786"
             ],
             [
              0.5555555555555556,
              "#d8576b"
             ],
             [
              0.6666666666666666,
              "#ed7953"
             ],
             [
              0.7777777777777778,
              "#fb9f3a"
             ],
             [
              0.8888888888888888,
              "#fdca26"
             ],
             [
              1,
              "#f0f921"
             ]
            ],
            "type": "heatmapgl"
           }
          ],
          "histogram": [
           {
            "marker": {
             "pattern": {
              "fillmode": "overlay",
              "size": 10,
              "solidity": 0.2
             }
            },
            "type": "histogram"
           }
          ],
          "histogram2d": [
           {
            "colorbar": {
             "outlinewidth": 0,
             "ticks": ""
            },
            "colorscale": [
             [
              0,
              "#0d0887"
             ],
             [
              0.1111111111111111,
              "#46039f"
             ],
             [
              0.2222222222222222,
              "#7201a8"
             ],
             [
              0.3333333333333333,
              "#9c179e"
             ],
             [
              0.4444444444444444,
              "#bd3786"
             ],
             [
              0.5555555555555556,
              "#d8576b"
             ],
             [
              0.6666666666666666,
              "#ed7953"
             ],
             [
              0.7777777777777778,
              "#fb9f3a"
             ],
             [
              0.8888888888888888,
              "#fdca26"
             ],
             [
              1,
              "#f0f921"
             ]
            ],
            "type": "histogram2d"
           }
          ],
          "histogram2dcontour": [
           {
            "colorbar": {
             "outlinewidth": 0,
             "ticks": ""
            },
            "colorscale": [
             [
              0,
              "#0d0887"
             ],
             [
              0.1111111111111111,
              "#46039f"
             ],
             [
              0.2222222222222222,
              "#7201a8"
             ],
             [
              0.3333333333333333,
              "#9c179e"
             ],
             [
              0.4444444444444444,
              "#bd3786"
             ],
             [
              0.5555555555555556,
              "#d8576b"
             ],
             [
              0.6666666666666666,
              "#ed7953"
             ],
             [
              0.7777777777777778,
              "#fb9f3a"
             ],
             [
              0.8888888888888888,
              "#fdca26"
             ],
             [
              1,
              "#f0f921"
             ]
            ],
            "type": "histogram2dcontour"
           }
          ],
          "mesh3d": [
           {
            "colorbar": {
             "outlinewidth": 0,
             "ticks": ""
            },
            "type": "mesh3d"
           }
          ],
          "parcoords": [
           {
            "line": {
             "colorbar": {
              "outlinewidth": 0,
              "ticks": ""
             }
            },
            "type": "parcoords"
           }
          ],
          "pie": [
           {
            "automargin": true,
            "type": "pie"
           }
          ],
          "scatter": [
           {
            "marker": {
             "colorbar": {
              "outlinewidth": 0,
              "ticks": ""
             }
            },
            "type": "scatter"
           }
          ],
          "scatter3d": [
           {
            "line": {
             "colorbar": {
              "outlinewidth": 0,
              "ticks": ""
             }
            },
            "marker": {
             "colorbar": {
              "outlinewidth": 0,
              "ticks": ""
             }
            },
            "type": "scatter3d"
           }
          ],
          "scattercarpet": [
           {
            "marker": {
             "colorbar": {
              "outlinewidth": 0,
              "ticks": ""
             }
            },
            "type": "scattercarpet"
           }
          ],
          "scattergeo": [
           {
            "marker": {
             "colorbar": {
              "outlinewidth": 0,
              "ticks": ""
             }
            },
            "type": "scattergeo"
           }
          ],
          "scattergl": [
           {
            "marker": {
             "colorbar": {
              "outlinewidth": 0,
              "ticks": ""
             }
            },
            "type": "scattergl"
           }
          ],
          "scattermapbox": [
           {
            "marker": {
             "colorbar": {
              "outlinewidth": 0,
              "ticks": ""
             }
            },
            "type": "scattermapbox"
           }
          ],
          "scatterpolar": [
           {
            "marker": {
             "colorbar": {
              "outlinewidth": 0,
              "ticks": ""
             }
            },
            "type": "scatterpolar"
           }
          ],
          "scatterpolargl": [
           {
            "marker": {
             "colorbar": {
              "outlinewidth": 0,
              "ticks": ""
             }
            },
            "type": "scatterpolargl"
           }
          ],
          "scatterternary": [
           {
            "marker": {
             "colorbar": {
              "outlinewidth": 0,
              "ticks": ""
             }
            },
            "type": "scatterternary"
           }
          ],
          "surface": [
           {
            "colorbar": {
             "outlinewidth": 0,
             "ticks": ""
            },
            "colorscale": [
             [
              0,
              "#0d0887"
             ],
             [
              0.1111111111111111,
              "#46039f"
             ],
             [
              0.2222222222222222,
              "#7201a8"
             ],
             [
              0.3333333333333333,
              "#9c179e"
             ],
             [
              0.4444444444444444,
              "#bd3786"
             ],
             [
              0.5555555555555556,
              "#d8576b"
             ],
             [
              0.6666666666666666,
              "#ed7953"
             ],
             [
              0.7777777777777778,
              "#fb9f3a"
             ],
             [
              0.8888888888888888,
              "#fdca26"
             ],
             [
              1,
              "#f0f921"
             ]
            ],
            "type": "surface"
           }
          ],
          "table": [
           {
            "cells": {
             "fill": {
              "color": "#EBF0F8"
             },
             "line": {
              "color": "white"
             }
            },
            "header": {
             "fill": {
              "color": "#C8D4E3"
             },
             "line": {
              "color": "white"
             }
            },
            "type": "table"
           }
          ]
         },
         "layout": {
          "annotationdefaults": {
           "arrowcolor": "#2a3f5f",
           "arrowhead": 0,
           "arrowwidth": 1
          },
          "autotypenumbers": "strict",
          "coloraxis": {
           "colorbar": {
            "outlinewidth": 0,
            "ticks": ""
           }
          },
          "colorscale": {
           "diverging": [
            [
             0,
             "#8e0152"
            ],
            [
             0.1,
             "#c51b7d"
            ],
            [
             0.2,
             "#de77ae"
            ],
            [
             0.3,
             "#f1b6da"
            ],
            [
             0.4,
             "#fde0ef"
            ],
            [
             0.5,
             "#f7f7f7"
            ],
            [
             0.6,
             "#e6f5d0"
            ],
            [
             0.7,
             "#b8e186"
            ],
            [
             0.8,
             "#7fbc41"
            ],
            [
             0.9,
             "#4d9221"
            ],
            [
             1,
             "#276419"
            ]
           ],
           "sequential": [
            [
             0,
             "#0d0887"
            ],
            [
             0.1111111111111111,
             "#46039f"
            ],
            [
             0.2222222222222222,
             "#7201a8"
            ],
            [
             0.3333333333333333,
             "#9c179e"
            ],
            [
             0.4444444444444444,
             "#bd3786"
            ],
            [
             0.5555555555555556,
             "#d8576b"
            ],
            [
             0.6666666666666666,
             "#ed7953"
            ],
            [
             0.7777777777777778,
             "#fb9f3a"
            ],
            [
             0.8888888888888888,
             "#fdca26"
            ],
            [
             1,
             "#f0f921"
            ]
           ],
           "sequentialminus": [
            [
             0,
             "#0d0887"
            ],
            [
             0.1111111111111111,
             "#46039f"
            ],
            [
             0.2222222222222222,
             "#7201a8"
            ],
            [
             0.3333333333333333,
             "#9c179e"
            ],
            [
             0.4444444444444444,
             "#bd3786"
            ],
            [
             0.5555555555555556,
             "#d8576b"
            ],
            [
             0.6666666666666666,
             "#ed7953"
            ],
            [
             0.7777777777777778,
             "#fb9f3a"
            ],
            [
             0.8888888888888888,
             "#fdca26"
            ],
            [
             1,
             "#f0f921"
            ]
           ]
          },
          "colorway": [
           "#636efa",
           "#EF553B",
           "#00cc96",
           "#ab63fa",
           "#FFA15A",
           "#19d3f3",
           "#FF6692",
           "#B6E880",
           "#FF97FF",
           "#FECB52"
          ],
          "font": {
           "color": "#2a3f5f"
          },
          "geo": {
           "bgcolor": "white",
           "lakecolor": "white",
           "landcolor": "#E5ECF6",
           "showlakes": true,
           "showland": true,
           "subunitcolor": "white"
          },
          "hoverlabel": {
           "align": "left"
          },
          "hovermode": "closest",
          "mapbox": {
           "style": "light"
          },
          "paper_bgcolor": "white",
          "plot_bgcolor": "#E5ECF6",
          "polar": {
           "angularaxis": {
            "gridcolor": "white",
            "linecolor": "white",
            "ticks": ""
           },
           "bgcolor": "#E5ECF6",
           "radialaxis": {
            "gridcolor": "white",
            "linecolor": "white",
            "ticks": ""
           }
          },
          "scene": {
           "xaxis": {
            "backgroundcolor": "#E5ECF6",
            "gridcolor": "white",
            "gridwidth": 2,
            "linecolor": "white",
            "showbackground": true,
            "ticks": "",
            "zerolinecolor": "white"
           },
           "yaxis": {
            "backgroundcolor": "#E5ECF6",
            "gridcolor": "white",
            "gridwidth": 2,
            "linecolor": "white",
            "showbackground": true,
            "ticks": "",
            "zerolinecolor": "white"
           },
           "zaxis": {
            "backgroundcolor": "#E5ECF6",
            "gridcolor": "white",
            "gridwidth": 2,
            "linecolor": "white",
            "showbackground": true,
            "ticks": "",
            "zerolinecolor": "white"
           }
          },
          "shapedefaults": {
           "line": {
            "color": "#2a3f5f"
           }
          },
          "ternary": {
           "aaxis": {
            "gridcolor": "white",
            "linecolor": "white",
            "ticks": ""
           },
           "baxis": {
            "gridcolor": "white",
            "linecolor": "white",
            "ticks": ""
           },
           "bgcolor": "#E5ECF6",
           "caxis": {
            "gridcolor": "white",
            "linecolor": "white",
            "ticks": ""
           }
          },
          "title": {
           "x": 0.05
          },
          "xaxis": {
           "automargin": true,
           "gridcolor": "white",
           "linecolor": "white",
           "ticks": "",
           "title": {
            "standoff": 15
           },
           "zerolinecolor": "white",
           "zerolinewidth": 2
          },
          "yaxis": {
           "automargin": true,
           "gridcolor": "white",
           "linecolor": "white",
           "ticks": "",
           "title": {
            "standoff": 15
           },
           "zerolinecolor": "white",
           "zerolinewidth": 2
          }
         }
        },
        "xaxis": {
         "anchor": "y",
         "domain": [
          0,
          1
         ],
         "title": {
          "text": "PC1"
         }
        },
        "yaxis": {
         "anchor": "x",
         "domain": [
          0,
          1
         ],
         "title": {
          "text": "PC4"
         }
        }
       }
      }
     },
     "metadata": {},
     "output_type": "display_data"
    },
    {
     "data": {
      "application/vnd.plotly.v1+json": {
       "config": {
        "plotlyServerURL": "https://plot.ly"
       },
       "data": [
        {
         "hovertemplate": "win_category=Above 50%<br>PC1=%{x}<br>PC4=%{y}<br>PC7=%{z}<extra></extra>",
         "legendgroup": "Above 50%",
         "marker": {
          "color": "blue",
          "size": 5,
          "symbol": "circle"
         },
         "mode": "markers",
         "name": "Above 50%",
         "scene": "scene",
         "showlegend": true,
         "type": "scatter3d",
         "x": [
          -3.4830589259509286,
          1.2146074927114932,
          1.4147747854734434,
          -0.5817197986825955,
          -0.6478829964487715,
          -1.7918623505601459,
          -3.227420722333129,
          -1.6031161487707661,
          0.12316124716926401,
          0.6392519472426695,
          0.3990742482441745,
          -1.09158822033436,
          -3.9253952434398647,
          -2.171369331004545,
          1.638055161578823,
          -0.33879571490009525,
          -0.8238345234026307,
          -1.642256925605654
         ],
         "y": [
          1.420062886273238,
          0.4012877751001722,
          -0.7505293603055322,
          -1.67267995228563,
          -1.8784598282471228,
          0.06415930042360699,
          -1.2199684408635187,
          0.7786580002356179,
          -0.6549340725048765,
          0.9579690869863177,
          -0.8747453886254039,
          -0.12842340132674734,
          0.03677209136433417,
          -0.8293290938545059,
          -1.0332294382305953,
          -0.28807942118695057,
          1.7393818510384729,
          -1.612647584085202
         ],
         "z": [
          -0.26449420850758354,
          -1.0959696509199488,
          -0.5452728675469618,
          -0.43456909331220606,
          2.1347134224424247,
          -0.8217862061287237,
          -0.5615149452407465,
          0.016501523200003802,
          0.27391084257977594,
          0.7334725224449674,
          0.23610072099916302,
          -0.5509828233168559,
          0.7629408203913577,
          0.7985715545606893,
          -0.3255953555653709,
          -0.5074111644892486,
          -0.18436776125095516,
          -0.7043753314955256
         ]
        },
        {
         "hovertemplate": "win_category=Below 50%<br>PC1=%{x}<br>PC4=%{y}<br>PC7=%{z}<extra></extra>",
         "legendgroup": "Below 50%",
         "marker": {
          "color": "red",
          "size": 5,
          "symbol": "circle"
         },
         "mode": "markers",
         "name": "Below 50%",
         "scene": "scene",
         "showlegend": true,
         "type": "scatter3d",
         "x": [
          2.414514719496018,
          3.808102692483611,
          0.0294210810852293,
          -0.026369019547455935,
          1.650629398178178,
          0.8656075756792398,
          -0.046831349140135835,
          0.6868151514634007,
          4.8471876758092804,
          0.8392640448953778,
          0.18932511946380753,
          0.6417089291470625
         ],
         "y": [
          -1.2220030808336408,
          -0.6345328336703434,
          0.4684498790043926,
          1.3476737238204268,
          0.07578338019024276,
          0.4132942816840837,
          2.2420772849379818,
          -0.5449794249520504,
          0.6966066633915087,
          0.13216045250928607,
          1.3153885780197092,
          1.2548160859927295
         ],
         "z": [
          -0.5931842600195578,
          0.6622847986006892,
          -0.02023550669675942,
          0.062469805418942544,
          -0.316037243390001,
          -0.29349415804413226,
          0.6315940148690433,
          -0.1459769273859566,
          0.15128317874892558,
          0.8703640053021247,
          0.06425453796180745,
          -0.03319424420938103
         ]
        }
       ],
       "layout": {
        "legend": {
         "title": {
          "text": "win_category"
         },
         "tracegroupgap": 0
        },
        "scene": {
         "domain": {
          "x": [
           0,
           1
          ],
          "y": [
           0,
           1
          ]
         },
         "xaxis": {
          "title": {
           "text": "Principal Component 1"
          }
         },
         "yaxis": {
          "title": {
           "text": "Principal Component 2"
          }
         },
         "zaxis": {
          "title": {
           "text": "Principal Component 4"
          }
         }
        },
        "template": {
         "data": {
          "bar": [
           {
            "error_x": {
             "color": "#2a3f5f"
            },
            "error_y": {
             "color": "#2a3f5f"
            },
            "marker": {
             "line": {
              "color": "#E5ECF6",
              "width": 0.5
             },
             "pattern": {
              "fillmode": "overlay",
              "size": 10,
              "solidity": 0.2
             }
            },
            "type": "bar"
           }
          ],
          "barpolar": [
           {
            "marker": {
             "line": {
              "color": "#E5ECF6",
              "width": 0.5
             },
             "pattern": {
              "fillmode": "overlay",
              "size": 10,
              "solidity": 0.2
             }
            },
            "type": "barpolar"
           }
          ],
          "carpet": [
           {
            "aaxis": {
             "endlinecolor": "#2a3f5f",
             "gridcolor": "white",
             "linecolor": "white",
             "minorgridcolor": "white",
             "startlinecolor": "#2a3f5f"
            },
            "baxis": {
             "endlinecolor": "#2a3f5f",
             "gridcolor": "white",
             "linecolor": "white",
             "minorgridcolor": "white",
             "startlinecolor": "#2a3f5f"
            },
            "type": "carpet"
           }
          ],
          "choropleth": [
           {
            "colorbar": {
             "outlinewidth": 0,
             "ticks": ""
            },
            "type": "choropleth"
           }
          ],
          "contour": [
           {
            "colorbar": {
             "outlinewidth": 0,
             "ticks": ""
            },
            "colorscale": [
             [
              0,
              "#0d0887"
             ],
             [
              0.1111111111111111,
              "#46039f"
             ],
             [
              0.2222222222222222,
              "#7201a8"
             ],
             [
              0.3333333333333333,
              "#9c179e"
             ],
             [
              0.4444444444444444,
              "#bd3786"
             ],
             [
              0.5555555555555556,
              "#d8576b"
             ],
             [
              0.6666666666666666,
              "#ed7953"
             ],
             [
              0.7777777777777778,
              "#fb9f3a"
             ],
             [
              0.8888888888888888,
              "#fdca26"
             ],
             [
              1,
              "#f0f921"
             ]
            ],
            "type": "contour"
           }
          ],
          "contourcarpet": [
           {
            "colorbar": {
             "outlinewidth": 0,
             "ticks": ""
            },
            "type": "contourcarpet"
           }
          ],
          "heatmap": [
           {
            "colorbar": {
             "outlinewidth": 0,
             "ticks": ""
            },
            "colorscale": [
             [
              0,
              "#0d0887"
             ],
             [
              0.1111111111111111,
              "#46039f"
             ],
             [
              0.2222222222222222,
              "#7201a8"
             ],
             [
              0.3333333333333333,
              "#9c179e"
             ],
             [
              0.4444444444444444,
              "#bd3786"
             ],
             [
              0.5555555555555556,
              "#d8576b"
             ],
             [
              0.6666666666666666,
              "#ed7953"
             ],
             [
              0.7777777777777778,
              "#fb9f3a"
             ],
             [
              0.8888888888888888,
              "#fdca26"
             ],
             [
              1,
              "#f0f921"
             ]
            ],
            "type": "heatmap"
           }
          ],
          "heatmapgl": [
           {
            "colorbar": {
             "outlinewidth": 0,
             "ticks": ""
            },
            "colorscale": [
             [
              0,
              "#0d0887"
             ],
             [
              0.1111111111111111,
              "#46039f"
             ],
             [
              0.2222222222222222,
              "#7201a8"
             ],
             [
              0.3333333333333333,
              "#9c179e"
             ],
             [
              0.4444444444444444,
              "#bd3786"
             ],
             [
              0.5555555555555556,
              "#d8576b"
             ],
             [
              0.6666666666666666,
              "#ed7953"
             ],
             [
              0.7777777777777778,
              "#fb9f3a"
             ],
             [
              0.8888888888888888,
              "#fdca26"
             ],
             [
              1,
              "#f0f921"
             ]
            ],
            "type": "heatmapgl"
           }
          ],
          "histogram": [
           {
            "marker": {
             "pattern": {
              "fillmode": "overlay",
              "size": 10,
              "solidity": 0.2
             }
            },
            "type": "histogram"
           }
          ],
          "histogram2d": [
           {
            "colorbar": {
             "outlinewidth": 0,
             "ticks": ""
            },
            "colorscale": [
             [
              0,
              "#0d0887"
             ],
             [
              0.1111111111111111,
              "#46039f"
             ],
             [
              0.2222222222222222,
              "#7201a8"
             ],
             [
              0.3333333333333333,
              "#9c179e"
             ],
             [
              0.4444444444444444,
              "#bd3786"
             ],
             [
              0.5555555555555556,
              "#d8576b"
             ],
             [
              0.6666666666666666,
              "#ed7953"
             ],
             [
              0.7777777777777778,
              "#fb9f3a"
             ],
             [
              0.8888888888888888,
              "#fdca26"
             ],
             [
              1,
              "#f0f921"
             ]
            ],
            "type": "histogram2d"
           }
          ],
          "histogram2dcontour": [
           {
            "colorbar": {
             "outlinewidth": 0,
             "ticks": ""
            },
            "colorscale": [
             [
              0,
              "#0d0887"
             ],
             [
              0.1111111111111111,
              "#46039f"
             ],
             [
              0.2222222222222222,
              "#7201a8"
             ],
             [
              0.3333333333333333,
              "#9c179e"
             ],
             [
              0.4444444444444444,
              "#bd3786"
             ],
             [
              0.5555555555555556,
              "#d8576b"
             ],
             [
              0.6666666666666666,
              "#ed7953"
             ],
             [
              0.7777777777777778,
              "#fb9f3a"
             ],
             [
              0.8888888888888888,
              "#fdca26"
             ],
             [
              1,
              "#f0f921"
             ]
            ],
            "type": "histogram2dcontour"
           }
          ],
          "mesh3d": [
           {
            "colorbar": {
             "outlinewidth": 0,
             "ticks": ""
            },
            "type": "mesh3d"
           }
          ],
          "parcoords": [
           {
            "line": {
             "colorbar": {
              "outlinewidth": 0,
              "ticks": ""
             }
            },
            "type": "parcoords"
           }
          ],
          "pie": [
           {
            "automargin": true,
            "type": "pie"
           }
          ],
          "scatter": [
           {
            "marker": {
             "colorbar": {
              "outlinewidth": 0,
              "ticks": ""
             }
            },
            "type": "scatter"
           }
          ],
          "scatter3d": [
           {
            "line": {
             "colorbar": {
              "outlinewidth": 0,
              "ticks": ""
             }
            },
            "marker": {
             "colorbar": {
              "outlinewidth": 0,
              "ticks": ""
             }
            },
            "type": "scatter3d"
           }
          ],
          "scattercarpet": [
           {
            "marker": {
             "colorbar": {
              "outlinewidth": 0,
              "ticks": ""
             }
            },
            "type": "scattercarpet"
           }
          ],
          "scattergeo": [
           {
            "marker": {
             "colorbar": {
              "outlinewidth": 0,
              "ticks": ""
             }
            },
            "type": "scattergeo"
           }
          ],
          "scattergl": [
           {
            "marker": {
             "colorbar": {
              "outlinewidth": 0,
              "ticks": ""
             }
            },
            "type": "scattergl"
           }
          ],
          "scattermapbox": [
           {
            "marker": {
             "colorbar": {
              "outlinewidth": 0,
              "ticks": ""
             }
            },
            "type": "scattermapbox"
           }
          ],
          "scatterpolar": [
           {
            "marker": {
             "colorbar": {
              "outlinewidth": 0,
              "ticks": ""
             }
            },
            "type": "scatterpolar"
           }
          ],
          "scatterpolargl": [
           {
            "marker": {
             "colorbar": {
              "outlinewidth": 0,
              "ticks": ""
             }
            },
            "type": "scatterpolargl"
           }
          ],
          "scatterternary": [
           {
            "marker": {
             "colorbar": {
              "outlinewidth": 0,
              "ticks": ""
             }
            },
            "type": "scatterternary"
           }
          ],
          "surface": [
           {
            "colorbar": {
             "outlinewidth": 0,
             "ticks": ""
            },
            "colorscale": [
             [
              0,
              "#0d0887"
             ],
             [
              0.1111111111111111,
              "#46039f"
             ],
             [
              0.2222222222222222,
              "#7201a8"
             ],
             [
              0.3333333333333333,
              "#9c179e"
             ],
             [
              0.4444444444444444,
              "#bd3786"
             ],
             [
              0.5555555555555556,
              "#d8576b"
             ],
             [
              0.6666666666666666,
              "#ed7953"
             ],
             [
              0.7777777777777778,
              "#fb9f3a"
             ],
             [
              0.8888888888888888,
              "#fdca26"
             ],
             [
              1,
              "#f0f921"
             ]
            ],
            "type": "surface"
           }
          ],
          "table": [
           {
            "cells": {
             "fill": {
              "color": "#EBF0F8"
             },
             "line": {
              "color": "white"
             }
            },
            "header": {
             "fill": {
              "color": "#C8D4E3"
             },
             "line": {
              "color": "white"
             }
            },
            "type": "table"
           }
          ]
         },
         "layout": {
          "annotationdefaults": {
           "arrowcolor": "#2a3f5f",
           "arrowhead": 0,
           "arrowwidth": 1
          },
          "autotypenumbers": "strict",
          "coloraxis": {
           "colorbar": {
            "outlinewidth": 0,
            "ticks": ""
           }
          },
          "colorscale": {
           "diverging": [
            [
             0,
             "#8e0152"
            ],
            [
             0.1,
             "#c51b7d"
            ],
            [
             0.2,
             "#de77ae"
            ],
            [
             0.3,
             "#f1b6da"
            ],
            [
             0.4,
             "#fde0ef"
            ],
            [
             0.5,
             "#f7f7f7"
            ],
            [
             0.6,
             "#e6f5d0"
            ],
            [
             0.7,
             "#b8e186"
            ],
            [
             0.8,
             "#7fbc41"
            ],
            [
             0.9,
             "#4d9221"
            ],
            [
             1,
             "#276419"
            ]
           ],
           "sequential": [
            [
             0,
             "#0d0887"
            ],
            [
             0.1111111111111111,
             "#46039f"
            ],
            [
             0.2222222222222222,
             "#7201a8"
            ],
            [
             0.3333333333333333,
             "#9c179e"
            ],
            [
             0.4444444444444444,
             "#bd3786"
            ],
            [
             0.5555555555555556,
             "#d8576b"
            ],
            [
             0.6666666666666666,
             "#ed7953"
            ],
            [
             0.7777777777777778,
             "#fb9f3a"
            ],
            [
             0.8888888888888888,
             "#fdca26"
            ],
            [
             1,
             "#f0f921"
            ]
           ],
           "sequentialminus": [
            [
             0,
             "#0d0887"
            ],
            [
             0.1111111111111111,
             "#46039f"
            ],
            [
             0.2222222222222222,
             "#7201a8"
            ],
            [
             0.3333333333333333,
             "#9c179e"
            ],
            [
             0.4444444444444444,
             "#bd3786"
            ],
            [
             0.5555555555555556,
             "#d8576b"
            ],
            [
             0.6666666666666666,
             "#ed7953"
            ],
            [
             0.7777777777777778,
             "#fb9f3a"
            ],
            [
             0.8888888888888888,
             "#fdca26"
            ],
            [
             1,
             "#f0f921"
            ]
           ]
          },
          "colorway": [
           "#636efa",
           "#EF553B",
           "#00cc96",
           "#ab63fa",
           "#FFA15A",
           "#19d3f3",
           "#FF6692",
           "#B6E880",
           "#FF97FF",
           "#FECB52"
          ],
          "font": {
           "color": "#2a3f5f"
          },
          "geo": {
           "bgcolor": "white",
           "lakecolor": "white",
           "landcolor": "#E5ECF6",
           "showlakes": true,
           "showland": true,
           "subunitcolor": "white"
          },
          "hoverlabel": {
           "align": "left"
          },
          "hovermode": "closest",
          "mapbox": {
           "style": "light"
          },
          "paper_bgcolor": "white",
          "plot_bgcolor": "#E5ECF6",
          "polar": {
           "angularaxis": {
            "gridcolor": "white",
            "linecolor": "white",
            "ticks": ""
           },
           "bgcolor": "#E5ECF6",
           "radialaxis": {
            "gridcolor": "white",
            "linecolor": "white",
            "ticks": ""
           }
          },
          "scene": {
           "xaxis": {
            "backgroundcolor": "#E5ECF6",
            "gridcolor": "white",
            "gridwidth": 2,
            "linecolor": "white",
            "showbackground": true,
            "ticks": "",
            "zerolinecolor": "white"
           },
           "yaxis": {
            "backgroundcolor": "#E5ECF6",
            "gridcolor": "white",
            "gridwidth": 2,
            "linecolor": "white",
            "showbackground": true,
            "ticks": "",
            "zerolinecolor": "white"
           },
           "zaxis": {
            "backgroundcolor": "#E5ECF6",
            "gridcolor": "white",
            "gridwidth": 2,
            "linecolor": "white",
            "showbackground": true,
            "ticks": "",
            "zerolinecolor": "white"
           }
          },
          "shapedefaults": {
           "line": {
            "color": "#2a3f5f"
           }
          },
          "ternary": {
           "aaxis": {
            "gridcolor": "white",
            "linecolor": "white",
            "ticks": ""
           },
           "baxis": {
            "gridcolor": "white",
            "linecolor": "white",
            "ticks": ""
           },
           "bgcolor": "#E5ECF6",
           "caxis": {
            "gridcolor": "white",
            "linecolor": "white",
            "ticks": ""
           }
          },
          "title": {
           "x": 0.05
          },
          "xaxis": {
           "automargin": true,
           "gridcolor": "white",
           "linecolor": "white",
           "ticks": "",
           "title": {
            "standoff": 15
           },
           "zerolinecolor": "white",
           "zerolinewidth": 2
          },
          "yaxis": {
           "automargin": true,
           "gridcolor": "white",
           "linecolor": "white",
           "ticks": "",
           "title": {
            "standoff": 15
           },
           "zerolinecolor": "white",
           "zerolinewidth": 2
          }
         }
        },
        "title": {
         "text": "3D Scatter Plot of PCA Components vs Win Percentage"
        }
       }
      }
     },
     "metadata": {},
     "output_type": "display_data"
    }
   ],
   "source": [
    "filtered_df = gameDataframe[gameDataframe['game_date'].dt.year == 2023].copy()\n",
    "# print(filtered_df)\n",
    "filtered_df['wl_home'] = filtered_df['wl_home'].map({'W': 1, 'L': 0})\n",
    "filtered_df = filtered_df.reset_index(drop=True)\n",
    "filtered_df = filtered_df.sort_values(by='game_date')\n",
    "\n",
    "filtered_df = filtered_df[filtered_df['team_name_home'] != 'Team LeBron']\n",
    "\n",
    "mean_last_20_to_11_games = ( ####2nd most recent game to nth most recent game\n",
    "    filtered_df.groupby('team_name_home')\n",
    "    .apply(lambda x: x.iloc[-13:-2].select_dtypes(include='number').mean())  \n",
    "    .drop(columns=['season_id','team_id_home','game_id'])\n",
    "    .reset_index(drop = True)\n",
    "    # .drop(columns=['wl_home'])  # Optional: Drop 'wl_home' if it's not needed in the result\n",
    ")\n",
    "\n",
    "\n",
    "mean_last_10_games = ( ##### LAST GAME\n",
    "    filtered_df.groupby('team_name_home')\n",
    "    .apply(lambda x: x.iloc[-2:-1].select_dtypes(include='number').mean()) \n",
    "    .drop(columns=['season_id','team_id_home','game_id'])\n",
    "    .reset_index(drop = True)\n",
    "    # .drop(columns=['wl_home'])  # Optional: Drop 'wl_home' if it's not needed in the result\n",
    ")\n",
    "\n",
    "\n",
    "ten_to_twenty_games_win = mean_last_20_to_11_games[\"wl_home\"]\n",
    "last_ten_games_win = mean_last_10_games[\"wl_home\"]\n",
    "correlations = mean_last_20_to_11_games.corr()['wl_home'].sort_values(ascending=False)\n",
    "remainingFeatures = correlations[correlations > .15].index #indexes of all features with a correlations above 15 percent towards the win or loss of a home team\n",
    "remainingFeaturesTest = remainingFeatures.drop('wl_home')\n",
    "print(remainingFeatures)\n",
    "\n",
    "\n",
    "scaler = StandardScaler()\n",
    "mean_last_20_to_11_games = mean_last_20_to_11_games[remainingFeatures]\n",
    "reducedData = mean_last_20_to_11_games.drop(columns=['wl_home'])\n",
    "rows_with_na = reducedData.isna().any(axis=1)\n",
    "reducedData = reducedData.dropna()\n",
    "scaledData = scaler.fit_transform(reducedData)\n",
    "pca = PCA()\n",
    "pcaData = pca.fit_transform(scaledData)\n",
    "\n",
    "# percentVar = np.round(pca.explained_variance_ratio_[:12]*100,decimals= 1)\n",
    "# labels = ['PC' + str(x) for x in range(1,13)]\n",
    "# plt.bar(x = range(1,13),height=percentVar,tick_label = labels)\n",
    "# plt.ylabel('Percentage of Explained Variance')\n",
    "# plt.xlabel('Principal Component')\n",
    "# plt.title('Scree Plot')\n",
    "\n",
    "pca_df = pd.DataFrame(pcaData, columns=[f'PC{i+1}' for i in range(pcaData.shape[1])]) #top 10 principal components account for ~90% variance \n",
    "\n",
    "# pca_df['wl_home'] = last_ten_games_win\n",
    "pca_df['wl_home'] = ten_to_twenty_games_win\n",
    "\n",
    "# print(pca_df)\n",
    "pcacorrelations_with_win = pca_df.corr()['wl_home'].drop('wl_home').abs().sort_values(ascending=False)\n",
    "remainingPCAFeatures = pcacorrelations_with_win[pcacorrelations_with_win > .15].index\n",
    "pcacorrelations_with_win = pca_df.corr()['wl_home'].drop('wl_home').sort_values(ascending=False)\n",
    "print(remainingPCAFeatures)\n",
    "\n",
    "#################################################################\n",
    "\n",
    "plt.figure(figsize=(10, 6))\n",
    "plt.bar(pcacorrelations_with_win.index, pcacorrelations_with_win.values, color='skyblue')\n",
    "plt.axhline(0, color='black', linewidth=0.8, linestyle='--')\n",
    "plt.title('Correlation of Principal Components with Winning')\n",
    "plt.xlabel('Principal Components')\n",
    "plt.ylabel('Correlation with Winning (wl_home)')\n",
    "plt.xticks(rotation=45)  # Rotate x labels for better readability\n",
    "plt.tight_layout()\n",
    "plt.show()\n",
    "\n",
    "pca_df['win_category'] = np.where(pca_df['wl_home'] >= 0.5, 'Above 50%', 'Below 50%')\n",
    "\n",
    "# # fig = px.scatter_3d(pca_df, x='PC1', y='PC2', z='PC4', color='wl_home',\n",
    "# #                     labels={'wl_home': 'Win Percentage'},\n",
    "# #                     title='3D Scatter Plot of PCA Components vs Win Percentage',\n",
    "# #                     color_continuous_scale=px.colors.sequential.Viridis)\n",
    "\n",
    "fig = px.scatter(pca_df,x = 'PC1', y= 'PC4', color = 'win_category')\n",
    "fig.show()\n",
    "\n",
    "# 3D Scatter Plot using Plotly with 2 color categories\n",
    "fig = px.scatter_3d(pca_df, x='PC1', y='PC4', z='PC7', color='win_category',\n",
    "                    color_discrete_map={'Above 50%': 'blue', 'Below 50%': 'red'},\n",
    "                    title='3D Scatter Plot of PCA Components vs Win Percentage')\n",
    "\n",
    "# Update layout for better readability\n",
    "fig.update_traces(marker=dict(size=5))  # Adjust marker size if needed\n",
    "fig.update_layout(scene=dict(\n",
    "    xaxis_title='Principal Component 1',\n",
    "    yaxis_title='Principal Component 2',\n",
    "    zaxis_title='Principal Component 4',\n",
    "))\n",
    "\n",
    "fig.show()\n"
   ]
  },
  {
   "cell_type": "markdown",
   "metadata": {},
   "source": [
    "This portion of the data reduction is much more relevant towards the scope of our project. By focusing on the mean of the features of each team from their last 10 games, we can get a good understanding of how the team is performing in general at the time of their upcoming games, as well as the most important features that are contributing towards their wins or losses. \n",
    "\n",
    "By identifying the principal components that are most directly correlated (positive or negative), we a good idea of predicting the outcomes of future games by using these principal components and seeing how they reflect a team leading up to their future games.\n",
    "\n",
    "Looking at the bar graph from the second graphic, we can see that there are several PC's that are heavily correlated with winning. PC1 and PC2 are negatively correlated with winning, and PC4 is positively correlated with winning. While not perfect, we can get a general understanding of this by plotting it in a 3-Dimensional space as graphic #3 has done. As you can see, when we move towards a higher value of PC1 and PC2, the percentage of winning goes down, and conversely when we move towards a lower value of PC1 and PC2 winning goes up. The opposite can be true of PC4. While this portion of our project is not used to draw definitive conclusions or predictions, this can establish a solid foundation for our machine learning models to use when predicting the outcome of games."
   ]
  },
  {
   "cell_type": "code",
   "execution_count": 4,
   "metadata": {},
   "outputs": [],
   "source": [
    "def evaluate_model(model, X_train, X_test, y_train, y_test):\n",
    "    model.fit(X_train, y_train)\n",
    "    y_pred = model.predict(X_train)\n",
    "\n",
    "    accuracy = accuracy_score(y_test, y_pred)\n",
    "    precision = precision_score(y_test, y_pred)\n",
    "    recall = recall_score(y_test, y_pred)\n",
    "    f1 = f1_score(y_test, y_pred)\n",
    "    roc_auc = roc_auc_score(y_test, model.predict_proba(X_train)[:, 1])\n",
    "\n",
    "    print(f'Accuracy: {accuracy:.4f}')\n",
    "    print(f'Precision: {precision:.4f}')\n",
    "    print(f'Recall: {recall:.4f}')\n",
    "    print(f'F1 score: {f1:.4f}')\n",
    "    print(f'ROC-AUC: {roc_auc:.4f}')\n",
    "\n",
    "    c_matrix = confusion_matrix(y_test, y_pred)\n",
    "    plt.figure(figsize=(8,6))\n",
    "    sns.heatmap(c_matrix, annot=True, fmt='d', cmap='Blues',\n",
    "                xticklabels=['Predicted Negative', 'Predicted Positive'],\n",
    "                yticklabels=['True Negative', 'True Positive'])\n",
    "    plt.title('Confusion Matrix')\n",
    "    plt.show()"
   ]
  },
  {
   "cell_type": "code",
   "execution_count": 442,
   "metadata": {},
   "outputs": [],
   "source": [
    "def evaluate_model_rf(gameWindow, earliestGame):\n",
    "    # randomforest_df = gameDataframe[gameDataframe['game_date'].dt.year >= 2022-10-18].copy()\n",
    "    randomforest_df = gameDataframe[gameDataframe['game_date'] >= \"2022-10-18\"].copy()\n",
    "    # randomforest_df = gameDataframe[gameDataframe['game_date'] <= \"2022-04-18\"].copy()\n",
    "    randomforest_df['wl_home'] = randomforest_df['wl_home'].map({'W': 1, 'L': 0})\n",
    "    randomforest_df = randomforest_df.reset_index(drop=True)\n",
    "    randomforest_df = randomforest_df.sort_values(by='game_date')\n",
    "    randomforest_df = randomforest_df[randomforest_df[\"season_type\"] == \"Regular Season\"]\n",
    "\n",
    "    randomforest_df = randomforest_df[randomforest_df['team_name_home'] != 'Team LeBron']\n",
    "    randomforest_df = randomforest_df[randomforest_df['team_name_home'] != 'Barcelona FC Barcelona Lassa']\n",
    "    randomforest_df = randomforest_df[randomforest_df['team_name_home'] != 'Barcelona FC Barcelona Regal']\n",
    "    randomforest_df = randomforest_df[randomforest_df['team_name_home'] != 'Barcelona Regal FC']\n",
    "    randomforest_df = randomforest_df[randomforest_df['team_name_home'] != 'Barcelona Winterthur FC']\n",
    "    randomforest_df = randomforest_df[randomforest_df['team_name_home'] != 'West NBA All Stars West']\n",
    "    randomforest_df = randomforest_df[randomforest_df['team_name_home'] != 'Washington Bullets']\n",
    "    randomforest_df = randomforest_df[randomforest_df['team_name_home'] != 'Berlin Alba Berlin']\n",
    "    randomforest_df = randomforest_df[randomforest_df['team_name_home'] != 'Bilbao Basket']\n",
    "    randomforest_df = randomforest_df[randomforest_df['team_name_home'] != 'Charlotte Bobcats']\n",
    "    randomforest_df = randomforest_df[randomforest_df['team_name_home'] != 'China Team China']\n",
    "    randomforest_df = randomforest_df[randomforest_df['team_name_home'] != 'East NBA All Stars East']\n",
    "    randomforest_df = randomforest_df[randomforest_df['team_name_home'] != 'Flamengo Flamengo']\n",
    "    randomforest_df = randomforest_df[randomforest_df['team_name_home'] != 'Istanbul Efes Pilsen']\n",
    "    randomforest_df = randomforest_df[randomforest_df['team_name_home'] != 'Istanbul Fenerbahce Ulker']\n",
    "    randomforest_df = randomforest_df[randomforest_df['team_name_home'] != 'Khimki BC']\n",
    "    randomforest_df = randomforest_df[randomforest_df['team_name_home'] != 'Lottomatica Lottomatica Roma']\n",
    "    randomforest_df = randomforest_df[randomforest_df['team_name_home'] != 'Lyon-Villeurbanne Adecco ASVEL']\n",
    "    randomforest_df = randomforest_df[randomforest_df['team_name_home'] != 'MMT Estudiantes MMT Estudiantes']\n",
    "    randomforest_df = randomforest_df[randomforest_df['team_name_home'] != 'Madrid Real Madrid']\n",
    "    randomforest_df = randomforest_df[randomforest_df['team_name_home'] != 'Milano Armani Jeans Milano']\n",
    "    randomforest_df = randomforest_df[randomforest_df['team_name_home'] != 'Milano EA7 Emporio Armani Milano']\n",
    "    randomforest_df = randomforest_df[randomforest_df['team_name_home'] != 'Milano Olimpia Milano']\n",
    "    randomforest_df = randomforest_df[randomforest_df['team_name_home'] != 'New Orleans/Oklahoma City Hornets']\n",
    "    randomforest_df = randomforest_df[randomforest_df['team_name_home'] != 'Vancouver Grizzlies']\n",
    "    randomforest_df = randomforest_df[randomforest_df['team_name_home'] != 'Unicaja Malaga Unicaja Malaga']\n",
    "    randomforest_df = randomforest_df[randomforest_df['team_name_home'] != 'Real Madrid Real Madrid']\n",
    "    randomforest_df = randomforest_df[randomforest_df['team_name_home'] != 'Roma Virtus Lottomatica']\n",
    "    randomforest_df = randomforest_df[randomforest_df['team_name_home'] != 'Seattle SuperSonics']\n",
    "    randomforest_df = randomforest_df[randomforest_df['team_name_home'] != 'Team Durant']\n",
    "    randomforest_df = randomforest_df[randomforest_df['team_name_home'] != 'Team Giannis']\n",
    "    randomforest_df = randomforest_df[randomforest_df['team_name_home'] != 'Team Team Stephen']\n",
    "    randomforest_df = randomforest_df[randomforest_df['team_name_home'] != 'Team Stephen']\n",
    "    randomforest_df = randomforest_df[randomforest_df['team_name_home'] != 'Tel Aviv Maccabi Elite']\n",
    "    randomforest_df = randomforest_df[randomforest_df['team_name_home'] != 'Team Tel Aviv Maccabi Elite']\n",
    "    randomforest_df = randomforest_df[randomforest_df['team_name_home'] != 'Team Tel Aviv Maccabi Elite']\n",
    "    randomforest_df = randomforest_df[randomforest_df['team_name_home'] != 'Team Tel Aviv Maccabi Elite']\n",
    "\n",
    "    \n",
    "    \n",
    "    ########################\n",
    "    ## Feature Engineering\n",
    "    rolling_window = 5\n",
    "    momentum_window = 5\n",
    "    momentum_diff = 10 \n",
    "    randomforest_df['home_advantage'] = randomforest_df['pts_home'] - randomforest_df['pts_away']\n",
    "    randomforest_df['turnover_fg_interaction'] = randomforest_df['tov_home'] * randomforest_df['fg_pct_home']\n",
    "    randomforest_df['rolling_std_points'] = (\n",
    "        randomforest_df.groupby('team_name_home')['pts_home']\n",
    "        .transform(lambda x: x.rolling(rolling_window, min_periods=1).std())\n",
    "    )\n",
    "    randomforest_df['momentum'] = (\n",
    "        randomforest_df.groupby('team_name_home')['pts_home']\n",
    "        .transform(lambda x: x.rolling(momentum_window, min_periods=1).mean())\n",
    "        - randomforest_df.groupby('team_name_home')['pts_home']\n",
    "        .transform(lambda x: x.shift(momentum_diff).rolling(momentum_window, min_periods=1).mean())\n",
    "    )\n",
    "\n",
    "    randomforest_df['recent_wins_opp'] = (\n",
    "    randomforest_df.groupby('team_name_away')['wl_home']\n",
    "    .transform(lambda x: x.rolling(window=rolling_window, min_periods=1).sum())\n",
    "    )\n",
    "    \n",
    "    randomforest_df['opp_win_pct'] = (\n",
    "    randomforest_df.groupby('team_name_away')['wl_home']\n",
    "    .transform(lambda x: x.expanding().mean())\n",
    "    )\n",
    "\n",
    "    randomforest_df['opp_momentum'] = (\n",
    "    randomforest_df.groupby('team_name_away')['pts_away']\n",
    "    .transform(lambda x: x.rolling(momentum_window, min_periods=1).mean())\n",
    "    - randomforest_df.groupby('team_name_away')['pts_away']\n",
    "    .transform(lambda x: x.shift(momentum_diff).rolling(momentum_window, min_periods=1).mean())\n",
    "    )\n",
    "\n",
    "    #######################\n",
    "    latestGame = (earliestGame - gameWindow) * -1 ##e.g. latestGame = -40\n",
    "    earliestGame *= - 1 ##e.g. earliestGame = -50\n",
    "    mean_games_train = ( ####2nd most recent game to nth most recent game\n",
    "        randomforest_df.groupby('team_name_home')\n",
    "        .apply(lambda x: x.iloc[earliestGame:latestGame].select_dtypes(include='number').mean())  \n",
    "        .drop(columns=['season_id','team_id_home','game_id'])\n",
    "        .reset_index(drop = True)\n",
    "    )\n",
    "    # print(randomforest_df.groupby('team_name_home').mean())\n",
    "    # print(mean_games_train)\n",
    "    testGame = latestGame + 1 ##e.g. testGame = -39\n",
    "\n",
    "    team_test_game = ( ##### LAST GAME\n",
    "        randomforest_df.groupby('team_name_home')\n",
    "        .apply(lambda x: x.iloc[latestGame:testGame].select_dtypes(include='number').mean()) \n",
    "        .drop(columns=['season_id','team_id_home','game_id'])\n",
    "        .reset_index(drop = True)\n",
    "    )\n",
    "\n",
    "\n",
    "    rfCorrelations = mean_games_train.corr()['wl_home'].abs().sort_values(ascending=False)\n",
    "    # print(rfCorrelations)\n",
    "    rfRemainingFeatures = rfCorrelations[rfCorrelations > .55].index #indexes of all features with a correlations above 15 percent towards the win or loss of a home team\n",
    "    # remainingFeaturesTest = remainingFeatures.drop('wl_home')\n",
    "\n",
    "    return mean_games_train,rfRemainingFeatures,team_test_game"
   ]
  },
  {
   "cell_type": "code",
   "execution_count": 325,
   "metadata": {},
   "outputs": [],
   "source": [
    "def test():\n",
    "    return 0\n",
    "    randomforest_df = gameDataframe[gameDataframe['game_date'] >= \"2022-10-18\"].copy()\n",
    "    randomforest_df['wl_home'] = randomforest_df['wl_home'].map({'W': 1, 'L': 0})\n",
    "    randomforest_df = randomforest_df.reset_index(drop=True)\n",
    "    randomforest_df = randomforest_df.sort_values(by='game_date')\n",
    "    randomforest_df = randomforest_df[randomforest_df[\"season_type\"] == \"Regular Season\"]\n",
    "\n",
    "    randomforest_df = randomforest_df[randomforest_df['team_name_home'] != 'Team LeBron']\n",
    "    randomforest_df = randomforest_df[randomforest_df['team_name_home'] != 'Barcelona FC Barcelona Lassa']\n",
    "    randomforest_df = randomforest_df[randomforest_df['team_name_home'] != 'Barcelona FC Barcelona Regal']\n",
    "    randomforest_df = randomforest_df[randomforest_df['team_name_home'] != 'Barcelona Regal FC']\n",
    "    randomforest_df = randomforest_df[randomforest_df['team_name_home'] != 'Barcelona Winterthur FC']\n",
    "    randomforest_df = randomforest_df[randomforest_df['team_name_home'] != 'West NBA All Stars West']\n",
    "    randomforest_df = randomforest_df[randomforest_df['team_name_home'] != 'Washington Bullets']\n",
    "    randomforest_df = randomforest_df[randomforest_df['team_name_home'] != 'Berlin Alba Berlin']\n",
    "    randomforest_df = randomforest_df[randomforest_df['team_name_home'] != 'Bilbao Basket']\n",
    "    randomforest_df = randomforest_df[randomforest_df['team_name_home'] != 'Charlotte Bobcats']\n",
    "    randomforest_df = randomforest_df[randomforest_df['team_name_home'] != 'China Team China']\n",
    "    randomforest_df = randomforest_df[randomforest_df['team_name_home'] != 'East NBA All Stars East']\n",
    "    randomforest_df = randomforest_df[randomforest_df['team_name_home'] != 'Flamengo Flamengo']\n",
    "    randomforest_df = randomforest_df[randomforest_df['team_name_home'] != 'Istanbul Efes Pilsen']\n",
    "    randomforest_df = randomforest_df[randomforest_df['team_name_home'] != 'Istanbul Fenerbahce Ulker']\n",
    "    randomforest_df = randomforest_df[randomforest_df['team_name_home'] != 'Khimki BC']\n",
    "    randomforest_df = randomforest_df[randomforest_df['team_name_home'] != 'Lottomatica Lottomatica Roma']\n",
    "    randomforest_df = randomforest_df[randomforest_df['team_name_home'] != 'Lyon-Villeurbanne Adecco ASVEL']\n",
    "    randomforest_df = randomforest_df[randomforest_df['team_name_home'] != 'MMT Estudiantes MMT Estudiantes']\n",
    "    randomforest_df = randomforest_df[randomforest_df['team_name_home'] != 'Madrid Real Madrid']\n",
    "    randomforest_df = randomforest_df[randomforest_df['team_name_home'] != 'Milano Armani Jeans Milano']\n",
    "    randomforest_df = randomforest_df[randomforest_df['team_name_home'] != 'Milano EA7 Emporio Armani Milano']\n",
    "    randomforest_df = randomforest_df[randomforest_df['team_name_home'] != 'Milano Olimpia Milano']\n",
    "    randomforest_df = randomforest_df[randomforest_df['team_name_home'] != 'New Orleans/Oklahoma City Hornets']\n",
    "    randomforest_df = randomforest_df[randomforest_df['team_name_home'] != 'Vancouver Grizzlies']\n",
    "    randomforest_df = randomforest_df[randomforest_df['team_name_home'] != 'Unicaja Malaga Unicaja Malaga']\n",
    "    randomforest_df = randomforest_df[randomforest_df['team_name_home'] != 'Real Madrid Real Madrid']\n",
    "    randomforest_df = randomforest_df[randomforest_df['team_name_home'] != 'Roma Virtus Lottomatica']\n",
    "    randomforest_df = randomforest_df[randomforest_df['team_name_home'] != 'Seattle SuperSonics']\n",
    "    randomforest_df = randomforest_df[randomforest_df['team_name_home'] != 'Team Durant']\n",
    "    randomforest_df = randomforest_df[randomforest_df['team_name_home'] != 'Team Giannis']\n",
    "    randomforest_df = randomforest_df[randomforest_df['team_name_home'] != 'Team Team Stephen']\n",
    "    randomforest_df = randomforest_df[randomforest_df['team_name_home'] != 'Team Stephen']\n",
    "    randomforest_df = randomforest_df[randomforest_df['team_name_home'] != 'Tel Aviv Maccabi Elite']\n",
    "    randomforest_df = randomforest_df[randomforest_df['team_name_home'] != 'Team Tel Aviv Maccabi Elite']\n",
    "    randomforest_df = randomforest_df[randomforest_df['team_name_home'] != 'Team Tel Aviv Maccabi Elite']\n",
    "    randomforest_df = randomforest_df[randomforest_df['team_name_home'] != 'Team Tel Aviv Maccabi Elite']\n",
    "\n",
    "    mean_games_train = ( ####2nd most recent game to nth most recent game\n",
    "        randomforest_df.groupby('team_name_home')\n",
    "        .apply(lambda x: x.iloc[-25:-24])  \n",
    "        # .drop(columns=['season_id','team_id_home','game_id'])\n",
    "        # .reset_index(drop = True)\n",
    "    )\n",
    "    mean_games_train"
   ]
  },
  {
   "cell_type": "code",
   "execution_count": 427,
   "metadata": {},
   "outputs": [],
   "source": [
    "def evaluate_model_rf_pca(gameWindow, earliestGame):\n",
    "    # randomforest_df = gameDataframe[gameDataframe['game_date'].dt.year >= 2022-10-18].copy()\n",
    "    randomforest_df = gameDataframe[gameDataframe['game_date'] >= \"2022-10-18\"].copy()\n",
    "    # randomforest_df = gameDataframe[gameDataframe['game_date'] <= \"2022-04-18\"].copy()\n",
    "    randomforest_df['wl_home'] = randomforest_df['wl_home'].map({'W': 1, 'L': 0})\n",
    "    randomforest_df = randomforest_df.reset_index(drop=True)\n",
    "    randomforest_df = randomforest_df.sort_values(by='game_date')\n",
    "    randomforest_df = randomforest_df[randomforest_df[\"season_type\"] == \"Regular Season\"]\n",
    "\n",
    "    randomforest_df = randomforest_df[randomforest_df['team_name_home'] != 'Team LeBron']\n",
    "    randomforest_df = randomforest_df[randomforest_df['team_name_home'] != 'Barcelona FC Barcelona Lassa']\n",
    "    randomforest_df = randomforest_df[randomforest_df['team_name_home'] != 'Barcelona FC Barcelona Regal']\n",
    "    randomforest_df = randomforest_df[randomforest_df['team_name_home'] != 'Barcelona Regal FC']\n",
    "    randomforest_df = randomforest_df[randomforest_df['team_name_home'] != 'Barcelona Winterthur FC']\n",
    "    randomforest_df = randomforest_df[randomforest_df['team_name_home'] != 'West NBA All Stars West']\n",
    "    randomforest_df = randomforest_df[randomforest_df['team_name_home'] != 'Washington Bullets']\n",
    "    randomforest_df = randomforest_df[randomforest_df['team_name_home'] != 'Berlin Alba Berlin']\n",
    "    randomforest_df = randomforest_df[randomforest_df['team_name_home'] != 'Bilbao Basket']\n",
    "    randomforest_df = randomforest_df[randomforest_df['team_name_home'] != 'Charlotte Bobcats']\n",
    "    randomforest_df = randomforest_df[randomforest_df['team_name_home'] != 'China Team China']\n",
    "    randomforest_df = randomforest_df[randomforest_df['team_name_home'] != 'East NBA All Stars East']\n",
    "    randomforest_df = randomforest_df[randomforest_df['team_name_home'] != 'Flamengo Flamengo']\n",
    "    randomforest_df = randomforest_df[randomforest_df['team_name_home'] != 'Istanbul Efes Pilsen']\n",
    "    randomforest_df = randomforest_df[randomforest_df['team_name_home'] != 'Istanbul Fenerbahce Ulker']\n",
    "    randomforest_df = randomforest_df[randomforest_df['team_name_home'] != 'Khimki BC']\n",
    "    randomforest_df = randomforest_df[randomforest_df['team_name_home'] != 'Lottomatica Lottomatica Roma']\n",
    "    randomforest_df = randomforest_df[randomforest_df['team_name_home'] != 'Lyon-Villeurbanne Adecco ASVEL']\n",
    "    randomforest_df = randomforest_df[randomforest_df['team_name_home'] != 'MMT Estudiantes MMT Estudiantes']\n",
    "    randomforest_df = randomforest_df[randomforest_df['team_name_home'] != 'Madrid Real Madrid']\n",
    "    randomforest_df = randomforest_df[randomforest_df['team_name_home'] != 'Milano Armani Jeans Milano']\n",
    "    randomforest_df = randomforest_df[randomforest_df['team_name_home'] != 'Milano EA7 Emporio Armani Milano']\n",
    "    randomforest_df = randomforest_df[randomforest_df['team_name_home'] != 'Milano Olimpia Milano']\n",
    "    randomforest_df = randomforest_df[randomforest_df['team_name_home'] != 'New Orleans/Oklahoma City Hornets']\n",
    "    randomforest_df = randomforest_df[randomforest_df['team_name_home'] != 'Vancouver Grizzlies']\n",
    "    randomforest_df = randomforest_df[randomforest_df['team_name_home'] != 'Unicaja Malaga Unicaja Malaga']\n",
    "    randomforest_df = randomforest_df[randomforest_df['team_name_home'] != 'Real Madrid Real Madrid']\n",
    "    randomforest_df = randomforest_df[randomforest_df['team_name_home'] != 'Roma Virtus Lottomatica']\n",
    "    randomforest_df = randomforest_df[randomforest_df['team_name_home'] != 'Seattle SuperSonics']\n",
    "    randomforest_df = randomforest_df[randomforest_df['team_name_home'] != 'Team Durant']\n",
    "    randomforest_df = randomforest_df[randomforest_df['team_name_home'] != 'Team Giannis']\n",
    "    randomforest_df = randomforest_df[randomforest_df['team_name_home'] != 'Team Team Stephen']\n",
    "    randomforest_df = randomforest_df[randomforest_df['team_name_home'] != 'Team Stephen']\n",
    "    randomforest_df = randomforest_df[randomforest_df['team_name_home'] != 'Tel Aviv Maccabi Elite']\n",
    "    randomforest_df = randomforest_df[randomforest_df['team_name_home'] != 'Team Tel Aviv Maccabi Elite']\n",
    "    randomforest_df = randomforest_df[randomforest_df['team_name_home'] != 'Team Tel Aviv Maccabi Elite']\n",
    "    randomforest_df = randomforest_df[randomforest_df['team_name_home'] != 'Team Tel Aviv Maccabi Elite']\n",
    "\n",
    "    \n",
    "    \n",
    "    ########################\n",
    "    ## Feature Engineering\n",
    "    rolling_window = 5\n",
    "    momentum_window = 5\n",
    "    momentum_diff = 10 \n",
    "    randomforest_df['home_advantage'] = randomforest_df['pts_home'] - randomforest_df['pts_away']\n",
    "    randomforest_df['turnover_fg_interaction'] = randomforest_df['tov_home'] * randomforest_df['fg_pct_home']\n",
    "    randomforest_df['rolling_std_points'] = (\n",
    "        randomforest_df.groupby('team_name_home')['pts_home']\n",
    "        .transform(lambda x: x.rolling(rolling_window, min_periods=1).std())\n",
    "    )\n",
    "    randomforest_df['momentum'] = (\n",
    "        randomforest_df.groupby('team_name_home')['pts_home']\n",
    "        .transform(lambda x: x.rolling(momentum_window, min_periods=1).mean())\n",
    "        - randomforest_df.groupby('team_name_home')['pts_home']\n",
    "        .transform(lambda x: x.shift(momentum_diff).rolling(momentum_window, min_periods=1).mean())\n",
    "    )\n",
    "\n",
    "    randomforest_df['recent_wins_opp'] = (\n",
    "    randomforest_df.groupby('team_name_away')['wl_home']\n",
    "    .transform(lambda x: x.rolling(window=rolling_window, min_periods=1).sum())\n",
    "    )\n",
    "    \n",
    "    randomforest_df['opp_win_pct'] = (\n",
    "    randomforest_df.groupby('team_name_away')['wl_home']\n",
    "    .transform(lambda x: x.expanding().mean())\n",
    "    )\n",
    "\n",
    "    randomforest_df['opp_momentum'] = (\n",
    "    randomforest_df.groupby('team_name_away')['pts_away']\n",
    "    .transform(lambda x: x.rolling(momentum_window, min_periods=1).mean())\n",
    "    - randomforest_df.groupby('team_name_away')['pts_away']\n",
    "    .transform(lambda x: x.shift(momentum_diff).rolling(momentum_window, min_periods=1).mean())\n",
    "    )\n",
    "\n",
    "    #######################\n",
    "    latestGame = (earliestGame - gameWindow) * -1 ##e.g. latestGame = -40\n",
    "    earliestGame *= - 1 ##e.g. earliestGame = -50\n",
    "    mean_games_train = ( ####2nd most recent game to nth most recent game\n",
    "        randomforest_df.groupby('team_name_home')\n",
    "        .apply(lambda x: x.iloc[earliestGame:latestGame].select_dtypes(include='number').mean())  \n",
    "        .drop(columns=['season_id','team_id_home','game_id'])\n",
    "        .reset_index(drop = True)\n",
    "    )\n",
    "    trainGameWins = mean_games_train['wl_home']\n",
    "    # print(randomforest_df.groupby('team_name_home').mean())\n",
    "    # print(mean_games_train)\n",
    "    testGame = latestGame + 1 ##e.g. testGame = -39\n",
    "    \n",
    "    team_test_game = ( ##### LAST GAME\n",
    "        randomforest_df.groupby('team_name_home')\n",
    "        .apply(lambda x: x.iloc[latestGame:testGame].select_dtypes(include='number').mean()) \n",
    "        .drop(columns=['season_id','team_id_home','game_id'])\n",
    "        .reset_index(drop = True)\n",
    "    )\n",
    "    rfCorrelations = mean_games_train.corr()['wl_home'].abs().sort_values(ascending=False)\n",
    "    rfRemainingFeatures = rfCorrelations[rfCorrelations > .60].index #indexes of all features with a correlations above 15 percent towards the win or loss of a home team\n",
    "\n",
    "    scaler = StandardScaler()\n",
    "    mean_games_train = mean_games_train[rfRemainingFeatures]\n",
    "\n",
    "    # reducedData = mean_last_20_to_11_games.drop(columns=['wl_home'])\n",
    "    # rows_with_na = reducedData.isna().any(axis=1)\n",
    "    # reducedData = reducedData.dropna()\n",
    "# \n",
    "    scaledData = scaler.fit_transform(mean_games_train)\n",
    "    pca = PCA()\n",
    "    pcaTrainData = pca.fit_transform(scaledData)\n",
    "    # print(pcaTrainData)\n",
    "    pcaTrainDf = pd.DataFrame(pcaTrainData, columns=[f'PC{i+1}' for i in range(pcaTrainData.shape[1])]) #top 10 principal components account for ~90% variance \n",
    "    pcaTrainDf['wl_home'] = trainGameWins\n",
    "    # print(pcaTrainDf)\n",
    "    pcacorrelations_with_win = pcaTrainDf.corr()['wl_home'].drop('wl_home').abs().sort_values(ascending=False)\n",
    "    # print(pcacorrelations_with_win)\n",
    "    remainingPCAFeatures = pcacorrelations_with_win[pcacorrelations_with_win > .20].index\n",
    "    # return mean_games_train,rfRemainingFeatures,team_test_game\n",
    "    return pcaTrainDf,remainingPCAFeatures,team_test_game"
   ]
  },
  {
   "cell_type": "code",
   "execution_count": 464,
   "metadata": {},
   "outputs": [
    {
     "name": "stdout",
     "output_type": "stream",
     "text": [
      "Cumulative Accuracy: 0.611\n"
     ]
    },
    {
     "data": {
      "image/png": "[encoded data removed]",
      "text/plain": [
       "<Figure size 576x432 with 2 Axes>"
      ]
     },
     "metadata": {
      "needs_background": "light"
     },
     "output_type": "display_data"
    }
   ],
   "source": [
    "gameWindow = 8\n",
    "earliestGame = 41\n",
    "accuracyList = []\n",
    "n = 0\n",
    "cumulative_cm = np.zeros((2, 2), dtype=int)\n",
    "x = 0\n",
    "\n",
    "while(earliestGame - gameWindow > 1):\n",
    "    x += 1\n",
    "    # print(x) \n",
    "    mean_games_train,rfRemainingFeatures,team_test_game = evaluate_model_rf(gameWindow,earliestGame)\n",
    "    # print(rfRemainingFeatures)\n",
    "    xTrain = mean_games_train[rfRemainingFeatures]\n",
    "    yTrain = mean_games_train[\"wl_home\"]\n",
    "    xTrain = xTrain.dropna()\n",
    "    yTrain = yTrain[xTrain.index]\n",
    "    yTrain = np.where(yTrain >= .50, 1, 0)\n",
    "    yTest = team_test_game[\"wl_home\"]\n",
    "    yTest = yTest[xTrain.index]\n",
    "    # print(yTest)\n",
    "\n",
    "    rf = RandomForestClassifier(n_estimators=15,max_depth= None,max_features= int(xTrain.shape[1]),min_samples_leaf=1,min_samples_split=2)\n",
    "    rf.fit(xTrain, yTrain)\n",
    "    yPred = rf.predict(xTrain)\n",
    "    # print(yPred)\n",
    "\n",
    "    # yPred_proba = rf.predict_proba(xTrain)\n",
    "    # threshold = 0. # Adjust threshold\n",
    "    # if (yPred_proba.shape[1] != 2):\n",
    "    #     yPred = rf.predict(xTrain)\n",
    "    # else:\n",
    "    #     yPred = (yPred_proba[:,1] >= threshold).astype(int)\n",
    "\n",
    "    accuracyList.append(accuracy_score(yTest,yPred))\n",
    "    # print(accuracy_score(yPred,yTest))\n",
    "    cm = confusion_matrix(yTest, yPred, labels=[0, 1])  # Ensure labels are consistent\n",
    "    cumulative_cm += cm\n",
    "\n",
    "    earliestGame = earliestGame - 1\n",
    "    n += 1\n",
    "finalAccuracy = round(sum(accuracyList)/n,3)\n",
    "print(\"Cumulative Accuracy:\",finalAccuracy)\n",
    "plt.figure(figsize=(8,6))\n",
    "sns.heatmap(cumulative_cm, annot=True, fmt='d', cmap='Blues',\n",
    "            xticklabels=['Predicted Negative', 'Predicted Positive'],\n",
    "            yticklabels=['True Negative', 'True Positive'])\n",
    "plt.title('Confusion Matrix')\n",
    "plt.show()"
   ]
  },
  {
   "cell_type": "code",
   "execution_count": 445,
   "metadata": {},
   "outputs": [
    {
     "name": "stdout",
     "output_type": "stream",
     "text": [
      "Cumulative Accuracy: 0.6135416666666667\n"
     ]
    },
    {
     "data": {
      "image/png": "[encoded data removed]",
      "text/plain": [
       "<Figure size 576x432 with 2 Axes>"
      ]
     },
     "metadata": {
      "needs_background": "light"
     },
     "output_type": "display_data"
    }
   ],
   "source": [
    "gameWindow = 8\n",
    "earliestGame = 41\n",
    "accuracyList = []\n",
    "n = 0\n",
    "cumulative_cm = np.zeros((2, 2), dtype=int)\n",
    "x = 0\n",
    "while(earliestGame - gameWindow > 1):\n",
    "    x += 1\n",
    "    # print(x)\n",
    "    mean_games_train,rfRemainingFeatures,team_test_game = evaluate_model_rf_pca(gameWindow,earliestGame)\n",
    "    xTrain = mean_games_train[rfRemainingFeatures]\n",
    "    yTrain = mean_games_train[\"wl_home\"]\n",
    "    xTrain = xTrain.dropna()\n",
    "    yTrain = yTrain[xTrain.index]\n",
    "    yTrain = np.where(yTrain >= .50, 1, 0)\n",
    "    yTest = team_test_game[\"wl_home\"]\n",
    "    yTest = yTest[xTrain.index]\n",
    "\n",
    "    rf = RandomForestClassifier(n_estimators=5,max_depth= None,max_features= int(xTrain.shape[1]),min_samples_leaf=1,min_samples_split=2)\n",
    "    rf.fit(xTrain, yTrain)\n",
    "    yPred = rf.predict(xTrain)\n",
    "\n",
    "\n",
    "    # yPred_proba = rf.predict_proba(xTrain)\n",
    "    # threshold = 0.6 # Adjust threshold\n",
    "    # if (yPred_proba.shape[1] != 2):\n",
    "    #     yPred = rf.predict(xTrain)\n",
    "    # else:\n",
    "    #     yPred = (yPred_proba[:,1] >= threshold).astype(int)\n",
    "\n",
    "    accuracyList.append(accuracy_score(yTest,yPred))\n",
    "    cm = confusion_matrix(yTest, yPred, labels=[0, 1])  # Ensure labels are consistent\n",
    "    cumulative_cm += cm\n",
    "\n",
    "    earliestGame = earliestGame - 1\n",
    "    n += 1\n",
    "finalAccuracy = sum(accuracyList)/n\n",
    "print(\"Cumulative Accuracy:\",finalAccuracy)\n",
    "plt.figure(figsize=(8,6))\n",
    "sns.heatmap(cumulative_cm, annot=True, fmt='d', cmap='Blues',\n",
    "            xticklabels=['Predicted Negative', 'Predicted Positive'],\n",
    "            yticklabels=['True Negative', 'True Positive'])\n",
    "plt.title('Confusion Matrix')\n",
    "plt.show()"
   ]
  },
  {
   "cell_type": "code",
   "execution_count": null,
   "metadata": {},
   "outputs": [
    {
     "name": "stderr",
     "output_type": "stream",
     "text": [
      "/Users/jeffrothwell/opt/anaconda3/lib/python3.9/site-packages/sklearn/linear_model/_logistic.py:814: ConvergenceWarning:\n",
      "\n",
      "lbfgs failed to converge (status=1):\n",
      "STOP: TOTAL NO. of ITERATIONS REACHED LIMIT.\n",
      "\n",
      "Increase the number of iterations (max_iter) or scale the data as shown in:\n",
      "    https://scikit-learn.org/stable/modules/preprocessing.html\n",
      "Please also refer to the documentation for alternative solver options:\n",
      "    https://scikit-learn.org/stable/modules/linear_model.html#logistic-regression\n",
      "\n",
      "/Users/jeffrothwell/opt/anaconda3/lib/python3.9/site-packages/sklearn/linear_model/_logistic.py:814: ConvergenceWarning:\n",
      "\n",
      "lbfgs failed to converge (status=1):\n",
      "STOP: TOTAL NO. of ITERATIONS REACHED LIMIT.\n",
      "\n",
      "Increase the number of iterations (max_iter) or scale the data as shown in:\n",
      "    https://scikit-learn.org/stable/modules/preprocessing.html\n",
      "Please also refer to the documentation for alternative solver options:\n",
      "    https://scikit-learn.org/stable/modules/linear_model.html#logistic-regression\n",
      "\n"
     ]
    },
    {
     "name": "stdout",
     "output_type": "stream",
     "text": [
      "Cumulative Accuracy: 0.6135416666666665\n"
     ]
    },
    {
     "data": {
      "image/png": "[encoded data removed]",
      "text/plain": [
       "<Figure size 576x432 with 2 Axes>"
      ]
     },
     "metadata": {
      "needs_background": "light"
     },
     "output_type": "display_data"
    }
   ],
   "source": [
    "gameWindow = 8\n",
    "earliestGame = 41\n",
    "accuracyList = []\n",
    "n = 0\n",
    "cumulative_cm = np.zeros((2, 2), dtype=int)\n",
    "while(earliestGame - gameWindow > 1):\n",
    "    mean_games_train,rfRemainingFeatures,team_test_game = evaluate_model_rf(gameWindow,earliestGame)\n",
    "    xTrain = mean_games_train[rfRemainingFeatures]\n",
    "    scaler = StandardScaler()\n",
    "    xTrain = scaler.fit_transform(xTrain)\n",
    "    yTrain = mean_games_train[\"wl_home\"]\n",
    "    yTrain = np.where(yTrain >= .50, 1, 0)\n",
    "    yTest = team_test_game[\"wl_home\"]\n",
    "\n",
    "    # model = LogisticRegression(class_weight='balanced',C=.1)\n",
    "    model = LogisticRegression()\n",
    "    model.fit(xTrain, yTrain)\n",
    "    yPred = model.predict(xTrain)\n",
    "    \n",
    "    # yPred_proba = model.predict_proba(xTrain)\n",
    "    # # print(yPred_proba)\n",
    "    # threshold = 0.55 # Adjust threshold\n",
    "    # if (yPred_proba.shape[1] != 2):\n",
    "    #     yPred = model.predict(xTrain)\n",
    "    # else:\n",
    "    #     yPred = (yPred_proba[:,1] >= threshold).astype(int)\n",
    "\n",
    "\n",
    "    accuracyList.append(accuracy_score(yTest,yPred))\n",
    "    cm = confusion_matrix(yTest, yPred, labels=[0, 1])  # Ensure labels are consistent\n",
    "    cumulative_cm += cm\n",
    "\n",
    "    earliestGame = earliestGame - 1\n",
    "    n += 1\n",
    "finalAccuracy = sum(accuracyList)/n\n",
    "print(\"Cumulative Accuracy:\",finalAccuracy)\n",
    "plt.figure(figsize=(8,6))\n",
    "sns.heatmap(cumulative_cm, annot=True, fmt='d', cmap='Blues',\n",
    "            xticklabels=['Predicted Negative', 'Predicted Positive'],\n",
    "            yticklabels=['True Negative', 'True Positive'])\n",
    "plt.title('Confusion Matrix')\n",
    "plt.show()"
   ]
  },
  {
   "cell_type": "code",
   "execution_count": null,
   "metadata": {},
   "outputs": [
    {
     "name": "stdout",
     "output_type": "stream",
     "text": [
      "Basic Model\n",
      "Accuracy: 0.5667\n",
      "Precision: 0.4706\n",
      "Recall: 0.6667\n",
      "F1 score: 0.5517\n",
      "ROC-AUC: 0.6019\n"
     ]
    },
    {
     "data": {
      "image/png": "[encoded data removed]",
      "text/plain": [
       "<Figure size 576x432 with 2 Axes>"
      ]
     },
     "metadata": {
      "needs_background": "light"
     },
     "output_type": "display_data"
    },
    {
     "name": "stdout",
     "output_type": "stream",
     "text": [
      "Balanced Model\n",
      "Accuracy: 0.5333\n",
      "Precision: 0.4375\n",
      "Recall: 0.5833\n",
      "F1 score: 0.5000\n",
      "ROC-AUC: 0.5926\n"
     ]
    },
    {
     "data": {
      "image/png": "[encoded data removed]",
      "text/plain": [
       "<Figure size 576x432 with 2 Axes>"
      ]
     },
     "metadata": {
      "needs_background": "light"
     },
     "output_type": "display_data"
    }
   ],
   "source": [
    "y_train = mean_last_20_to_11_games[\"wl_home\"].dropna()\n",
    "y_train = np.where(y_train >= .5, 1, 0)\n",
    "regressionData = pca_df[remainingPCAFeatures]\n",
    "X_train = regressionData\n",
    "y_test = mean_last_10_games[\"wl_home\"] #name is misleading. This is a 1 if the team won their SINGULAR most recent game, and 0 otherwise\n",
    "# X_train = mean_last_20_to_11_games[remainingFeatures]\n",
    "\n",
    "\n",
    "\n",
    "###############################\n",
    "# filtered_df = filtered_df[filtered_df['team_name_home'] != 'Team LeBron']\n",
    "# y_test = (\n",
    "#     filtered_df.groupby('team_name_home')\n",
    "#     .apply(lambda x: x.iloc[-1]['wl_home'])  # Only the latest game outcome per team\n",
    "#     .reset_index(drop=True)\n",
    "# )\n",
    "\n",
    "\n",
    "X_test = np.empty((len(y_test), X_train.shape[1]))\n",
    "#Fit without params\n",
    "\n",
    "model = LogisticRegression()\n",
    "print('Basic Model')\n",
    "evaluate_model(model, X_train, X_test, y_train, y_test)\n",
    "\n",
    "#Fit with params\n",
    "balanced_model = LogisticRegression(\n",
    "    class_weight = 'balanced',\n",
    "    C = 0.1,\n",
    ")\n",
    "print('Balanced Model')\n",
    "evaluate_model(balanced_model, X_train, X_test, y_train, y_test)"
   ]
  },
  {
   "cell_type": "code",
   "execution_count": 21,
   "metadata": {},
   "outputs": [
    {
     "name": "stdout",
     "output_type": "stream",
     "text": [
      "Accuracy: 0.6666666666666666\n",
      "              precision    recall  f1-score   support\n",
      "\n",
      "         0.0       0.83      0.56      0.67        18\n",
      "         1.0       0.56      0.83      0.67        12\n",
      "\n",
      "    accuracy                           0.67        30\n",
      "   macro avg       0.69      0.69      0.67        30\n",
      "weighted avg       0.72      0.67      0.67        30\n",
      "\n"
     ]
    },
    {
     "data": {
      "image/png": "[encoded data removed]",
      "text/plain": [
       "<Figure size 576x432 with 1 Axes>"
      ]
     },
     "metadata": {
      "needs_background": "light"
     },
     "output_type": "display_data"
    },
    {
     "data": {
      "image/png": "[encoded data removed]",
      "text/plain": [
       "<Figure size 576x432 with 2 Axes>"
      ]
     },
     "metadata": {
      "needs_background": "light"
     },
     "output_type": "display_data"
    }
   ],
   "source": [
    "sqrt = np.sqrt(remainingFeatures.size)\n",
    "xTrain1 = mean_last_20_to_11_games[remainingFeatures] # name is misleading. This is the averages of each team from their 11th to 2nd most recent games, reduced to just the most important features so that we're not overfeeding the model\n",
    "yTrain1 = mean_last_20_to_11_games[\"wl_home\"]\n",
    "yTrain1 = np.where(yTrain1 >= .5, 1, 0)\n",
    "yTest1 = mean_last_10_games[\"wl_home\"] #name is misleading. This is a 1 if the team won their SINGULAR most recent game, and 0 otherwise\n",
    "\n",
    "\n",
    "\n",
    "param_grid = {\n",
    "    'n_estimators': [50, 100, 200],\n",
    "    'max_depth': [None, 10, 20, 30],\n",
    "    'min_samples_split': [2, 5, 10],\n",
    "    'min_samples_leaf': [1, 2, 4],\n",
    "    'max_features': ['sqrt', 'log2', None]\n",
    "}\n",
    "\n",
    "\n",
    "\n",
    "rf = RandomForestClassifier(n_estimators=50,max_depth= None,max_features= int(np.sqrt(np.ceil(xTrain1.shape[1]))),min_samples_leaf=1,min_samples_split=2)\n",
    "rf.fit(xTrain1, yTrain1)\n",
    "# Make predictions and evaluate the model\n",
    "yPred1 = rf.predict(xTrain1)\n",
    "print(\"Accuracy:\", accuracy_score(yTest1, yPred1))\n",
    "print(classification_report(yTest1, yPred1))\n",
    "\n",
    "# grid_search = GridSearchCV(estimator=rf, param_grid=param_grid, cv=3, scoring='accuracy')\n",
    "# grid_search.fit(xTrain1, yTrain1)\n",
    "# print(\"Best Parameters:\", grid_search.best_params_)\n",
    "\n",
    "# Plot the feature importances\n",
    "importances = rf.feature_importances_\n",
    "# print(importances)\n",
    "plt.figure(figsize=(8, 6))\n",
    "plt.bar(\n",
    "    range(len(importances)),\n",
    "    importances,\n",
    "    tick_label=[f'Feature{i+1}' for i in range(len(importances))]\n",
    ")\n",
    "plt.title('Feature Importances')\n",
    "plt.xlabel('Features')\n",
    "plt.ylabel('Importance')\n",
    "plt.xticks(rotation=45)\n",
    "plt.tight_layout()\n",
    "plt.show()\n",
    "\n",
    "c_matrix = confusion_matrix(yTest1, yPred1)\n",
    "plt.figure(figsize=(8,6))\n",
    "sns.heatmap(c_matrix, annot=True, fmt='d', cmap='Blues',\n",
    "            xticklabels=['Predicted Negative', 'Predicted Positive'],\n",
    "            yticklabels=['True Negative', 'True Positive'])\n",
    "plt.title('Confusion Matrix')\n",
    "plt.show()"
   ]
  },
  {
   "cell_type": "code",
   "execution_count": null,
   "metadata": {},
   "outputs": [],
   "source": [
    "filtered_df = gameDataframe[gameDataframe['game_date'].dt.year >= 2000].copy()\n",
    "filtered_df['wl_home'] = filtered_df['wl_home'].map({'W': 1, 'L': 0})\n",
    "filtered_df.reset_index(drop=True, inplace=True)\n",
    "filtered_df.dropna(inplace=True)\n",
    "\n",
    "non_numeric_columns = filtered_df.select_dtypes(exclude=[np.number]).columns\n",
    "filtered_df = filtered_df.select_dtypes(include=[np.number])\n",
    "\n",
    "correlations = filtered_df.corr()['wl_home'].abs().sort_values(ascending=False)\n",
    "\n",
    "remainingFeatures = correlations[correlations > .15].index \n",
    "\n",
    "scaler = StandardScaler()\n",
    "reducedData = filtered_df[remainingFeatures]\n",
    "x_set = reducedData.drop(columns='wl_home')\n",
    "y_set = reducedData['wl_home']\n",
    "x_set_scaled = scaler.fit_transform(x_set)\n",
    "\n",
    "pca_3 = PCA(n_components=3)\n",
    "new_dataset = pca_3.fit_transform(x_set_scaled) # scaledData is just X\n",
    "\n",
    "#########\n",
    "\n",
    "clustering = DBSCAN()\n",
    "clustering.fit(new_dataset)\n",
    "print(f'Number of clusters: {len(np.unique(clustering.labels_))}')\n",
    "print(f'Number of \"outliers\": {len(np.where(clustering.labels_ == -1)[0])}')\n",
    "print(f'N: {len(x_set)}')\n",
    "\n",
    "# Do we want to delete these \"outliers\" from the dataset?"
   ]
  },
  {
   "cell_type": "code",
   "execution_count": null,
   "metadata": {},
   "outputs": [],
   "source": [
    "cleaned_game_stats_home = filtered_df.iloc[:, 7:28].copy() # only the home numerical data\n",
    "# print(cleaned_game_stats_home)\n",
    "cleaned_game_stats_home.dropna(inplace=True)\n",
    "x_set = cleaned_game_stats_home.iloc[:, 1:]\n",
    "# print(x_set)\n",
    "x_set_std = (x_set-x_set.mean())/x_set.std()\n",
    "y_set = cleaned_game_stats_home.iloc[:, 0]\n",
    "# print(y_set)"
   ]
  },
  {
   "cell_type": "code",
   "execution_count": null,
   "metadata": {},
   "outputs": [],
   "source": [
    "lasso_fit = Lasso(alpha=0.02, max_iter=10000)\n",
    "lasso_fit.fit(x_set_std, y_set)\n",
    "feats = np.where(lasso_fit.coef_ != 0)[0]\n",
    "feats"
   ]
  },
  {
   "cell_type": "code",
   "execution_count": null,
   "metadata": {},
   "outputs": [],
   "source": [
    "selected_dataset = x_set.iloc[:, feats]\n",
    "\n",
    "clustering = DBSCAN(eps=0.5, min_samples=3)\n",
    "clustering.fit(selected_dataset)\n",
    "print(f'Number of clusters: {len(np.unique(clustering.labels_))}')\n",
    "print(f'Number of \"outliers\": {len(np.where(clustering.labels_ == -1)[0])}')\n",
    "print(f'N: {len(x_set)}')"
   ]
  },
  {
   "cell_type": "markdown",
   "metadata": {},
   "source": [
    "RANDOM FOREST JALEN's INITIAL MODEL"
   ]
  },
  {
   "cell_type": "code",
   "execution_count": null,
   "metadata": {},
   "outputs": [],
   "source": [
    "from sklearn.ensemble import RandomForestClassifier\n",
    "from sklearn.metrics import accuracy_score, classification_report\n",
    "from sklearn.model_selection import train_test_split\n",
    "import matplotlib.pyplot as plt\n",
    "\n",
    "# Align pcaData and target variable\n",
    "filtered_df = filtered_df.dropna(subset=['wl_home'])  # Remove rows with NaN in 'wl_home'\n",
    "scaledData = scaler.fit_transform(filtered_df[remainingFeatures.drop('wl_home')])  # Ensure scaled data matches filtered_df\n",
    "\n",
    "# Perform PCA again on aligned data\n",
    "pca = PCA()\n",
    "pcaData = pca.fit_transform(scaledData)  # Transform aligned scaled data\n",
    "y_set = filtered_df['wl_home'].reset_index(drop=True)  # Reset index to match pcaData\n",
    "\n",
    "# Check alignment\n",
    "assert len(pcaData) == len(y_set), \"Mismatch between PCA data and target variable rows\"\n",
    "\n",
    "# Split the PCA data into training and test sets\n",
    "X_train, X_test, y_train, y_test = train_test_split(\n",
    "    pcaData,\n",
    "    y_set,\n",
    "    test_size=0.2,\n",
    "    random_state=42\n",
    ")\n",
    "\n",
    "# Initialize and train the Random Forest Classifier\n",
    "rf = RandomForestClassifier(n_estimators=100, random_state=42)\n",
    "rf.fit(X_train, y_train)\n",
    "\n",
    "# Make predictions and evaluate the model\n",
    "y_pred = rf.predict(X_test)\n",
    "print(\"Accuracy:\", accuracy_score(y_test, y_pred))\n",
    "print(classification_report(y_test, y_pred))\n",
    "\n",
    "# Plot the feature importances\n",
    "importances = rf.feature_importances_\n",
    "plt.figure(figsize=(8, 6))\n",
    "plt.bar(\n",
    "    range(len(importances)),\n",
    "    importances,\n",
    "    tick_label=[f'PC{i+1}' for i in range(len(importances))]\n",
    ")\n",
    "plt.title('Feature Importances of PCA Components')\n",
    "plt.xlabel('Principal Components')\n",
    "plt.ylabel('Importance')\n",
    "plt.xticks(rotation=45)\n",
    "plt.tight_layout()\n",
    "plt.show()\n"
   ]
  }
 ],
 "metadata": {
  "kernelspec": {
   "display_name": "Python 3",
   "language": "python",
   "name": "python3"
  },
  "language_info": {
   "codemirror_mode": {
    "name": "ipython",
    "version": 3
   },
   "file_extension": ".py",
   "mimetype": "text/x-python",
   "name": "python",
   "nbconvert_exporter": "python",
   "pygments_lexer": "ipython3",
   "version": "3.9.12"
  }
 },
 "nbformat": 4,
 "nbformat_minor": 4
}
