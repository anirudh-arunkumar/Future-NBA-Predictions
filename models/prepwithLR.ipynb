{
 "cells": [
  {
   "cell_type": "code",
   "execution_count": 1,
   "metadata": {},
   "outputs": [
    {
     "name": "stderr",
     "output_type": "stream",
     "text": [
      "/Users/jeffrothwell/opt/anaconda3/lib/python3.9/site-packages/scipy/__init__.py:146: UserWarning: A NumPy version >=1.16.5 and <1.23.0 is required for this version of SciPy (detected version 1.26.4\n",
      "  warnings.warn(f\"A NumPy version >={np_minversion} and <{np_maxversion}\"\n"
     ]
    }
   ],
   "source": [
    "import numpy as np\n",
    "import pandas as pd\n",
    "import seaborn as sns\n",
    "import matplotlib.pyplot as plt\n",
    "from sklearn.decomposition import PCA\n",
    "from sklearn import preprocessing\n",
    "from sklearn.preprocessing import StandardScaler\n",
    "from mpl_toolkits.mplot3d import Axes3D\n",
    "import plotly.express as px\n",
    "from sklearn.cluster import DBSCAN\n",
    "from sklearn.linear_model import Lasso\n",
    "from sklearn.linear_model import LogisticRegression\n",
    "from sklearn.linear_model import LinearRegression\n",
    "from sklearn.metrics import accuracy_score, roc_auc_score\n",
    "from sklearn.model_selection import train_test_split\n",
    "from sklearn.metrics import roc_curve, auc"
   ]
  },
  {
   "cell_type": "code",
   "execution_count": 2,
   "metadata": {},
   "outputs": [
    {
     "name": "stderr",
     "output_type": "stream",
     "text": [
      "/var/folders/83/l4pf1ccj1zjg__2f5qtgzqhm0000gn/T/ipykernel_13659/3122945918.py:9: SettingWithCopyWarning: \n",
      "A value is trying to be set on a copy of a slice from a DataFrame.\n",
      "Try using .loc[row_indexer,col_indexer] = value instead\n",
      "\n",
      "See the caveats in the documentation: https://pandas.pydata.org/pandas-docs/stable/user_guide/indexing.html#returning-a-view-versus-a-copy\n",
      "  filtered_df['wl_home'] = filtered_df['wl_home'].map({'W': 1, 'L': 0})\n"
     ]
    },
    {
     "data": {
      "image/png": "[encoded data removed]",
      "text/plain": [
       "<Figure size 432x288 with 1 Axes>"
      ]
     },
     "metadata": {
      "needs_background": "light"
     },
     "output_type": "display_data"
    },
    {
     "name": "stdout",
     "output_type": "stream",
     "text": [
      "PC2     0.201563\n",
      "PC6     0.192061\n",
      "PC9     0.093385\n",
      "PC8     0.053768\n",
      "PC5     0.022722\n",
      "PC3     0.011284\n",
      "PC4     0.003929\n",
      "PC7    -0.059350\n",
      "PC10   -0.107302\n",
      "PC1    -0.737142\n",
      "Name: wl_home, dtype: float64\n"
     ]
    }
   ],
   "source": [
    "gameDataframe = pd.read_csv(\"game.csv\")\n",
    "# print(gameDataframe)\n",
    "gameDataframe['game_date'] = pd.to_datetime(gameDataframe['game_date'])\n",
    "\n",
    "# Filter the data to only include rows from 2000 onwards\n",
    "filtered_df = gameDataframe[gameDataframe['game_date'].dt.year >= 2000]\n",
    "# print(filtered_df)\n",
    "\n",
    "filtered_df['wl_home'] = filtered_df['wl_home'].map({'W': 1, 'L': 0})\n",
    "filtered_df = filtered_df.reset_index(drop=True)\n",
    "\n",
    "#####\n",
    "\n",
    "non_numeric_columns = filtered_df.select_dtypes(exclude =[np.number]).columns\n",
    "filtered_df = filtered_df.select_dtypes(include = [np.number])\n",
    "\n",
    "####\n",
    "\n",
    "correlations = filtered_df.corr()['wl_home'].abs().sort_values(ascending=False)\n",
    "remainingFeatures = correlations[correlations > .15].index #indexes of all features with a correlations above 15 percent towards the win or loss of a home team\n",
    "# print(remainingFeatures)\n",
    "\n",
    "scaler = StandardScaler()\n",
    "reducedData = filtered_df[remainingFeatures].drop(columns=['wl_home'])\n",
    "scaledData = scaler.fit_transform(reducedData)\n",
    "pca = PCA()\n",
    "# pca.fit(scaledData)\n",
    "pcaData = pca.fit_transform(scaledData)\n",
    "\n",
    "percentVar = np.round(pca.explained_variance_ratio_*100,decimals= 1)\n",
    "labels = ['PC' + str(x) for x in range(1,len(percentVar) + 1)]\n",
    "plt.bar(x = range(1,len(percentVar)+1),height=percentVar,tick_label = labels)\n",
    "plt.ylabel('Percentage of Explained Variance')\n",
    "plt.xlabel('Principal Component')\n",
    "plt.title('Scree Plot')\n",
    "plt.show()\n",
    "\n",
    "\n",
    "pca_df = pd.DataFrame(pcaData[:,:10], columns=[f'PC{i+1}' for i in range(10)]) #top 10 principal components account for ~90% variance \n",
    "pca_df['wl_home'] = filtered_df['wl_home']\n",
    "correlations_with_win = pca_df.corr()['wl_home'].drop('wl_home').sort_values(ascending=False)\n",
    "# print(filtered_df['wl_home'])\n",
    "# print(pca_df)\n",
    "print(correlations_with_win)"
   ]
  },
  {
   "cell_type": "markdown",
   "metadata": {},
   "source": [
    "Observing the Scree plot give us insight towards the Principal Components that contribute the highest percentage of variance in general. It's important to note that this is general variance, not variance directly pertaining towards the win or loss of the home team. \n",
    "\n",
    "Conversely, the printed correlations are tied directly to the win or loss of the home team for each Principal Component. As we can see, the most explanatory principal component is PC1, which is negatively correlated with the win or loss of the home team. Meaning, if there is a high value for PC1 in a given game, that game lends itself to being more likely to having been a loss for the home team. While other factors such as PC2 and PC6 are among the higher correlated PC's with W/L, their correlation contstant is not nearly as dominant as PC1's.\n",
    "\n",
    "It's important to note, this is data collected after the fact. Since our model is looking to predict the outcome of games, these statistics can't necessarily help us as we have no indication as to how these features will play out in a given game. However, there is some merit into observing the cumulative of these values leading up to each game. If a team is consistently putting up high contributions towards the PC1 feature, for example, we could therefore assume it is less likely they will win their following game."
   ]
  },
  {
   "cell_type": "code",
   "execution_count": 3,
   "metadata": {},
   "outputs": [
    {
     "name": "stdout",
     "output_type": "stream",
     "text": [
      "Index(['PC1', 'PC5', 'PC3', 'PC12', 'PC11'], dtype='object')\n"
     ]
    },
    {
     "name": "stderr",
     "output_type": "stream",
     "text": [
      "/var/folders/83/l4pf1ccj1zjg__2f5qtgzqhm0000gn/T/ipykernel_13659/2752449887.py:3: SettingWithCopyWarning: \n",
      "A value is trying to be set on a copy of a slice from a DataFrame.\n",
      "Try using .loc[row_indexer,col_indexer] = value instead\n",
      "\n",
      "See the caveats in the documentation: https://pandas.pydata.org/pandas-docs/stable/user_guide/indexing.html#returning-a-view-versus-a-copy\n",
      "  filtered_df['wl_home'] = filtered_df['wl_home'].map({'W': 1, 'L': 0})\n"
     ]
    },
    {
     "data": {
      "image/png": "[encoded data removed]",
      "text/plain": [
       "<Figure size 720x432 with 1 Axes>"
      ]
     },
     "metadata": {
      "needs_background": "light"
     },
     "output_type": "display_data"
    },
    {
     "data": {
      "application/vnd.plotly.v1+json": {
       "config": {
        "plotlyServerURL": "https://plot.ly"
       },
       "data": [
        {
         "hovertemplate": "win_category=Above 50%<br>PC1=%{x}<br>PC5=%{y}<extra></extra>",
         "legendgroup": "Above 50%",
         "marker": {
          "color": "#636efa",
          "symbol": "circle"
         },
         "mode": "markers",
         "name": "Above 50%",
         "orientation": "v",
         "showlegend": true,
         "type": "scatter",
         "x": [
          -4.815497492897099,
          1.6059168775806236,
          -1.0682767594933338,
          -1.0680274808626458,
          0.13675028861520747,
          -1.112160790943,
          -2.445560660978468,
          -1.714220415835616,
          -0.013563144145494454,
          0.7056572138930096,
          0.30410217281520474,
          -0.8521603061654971,
          -2.762239988261203,
          -2.3731243919149323,
          1.6557875203138492,
          -0.677869947007128,
          -1.0668353277392226
         ],
         "xaxis": "x",
         "y": [
          1.2524383667538816,
          -0.8370149557747792,
          -1.212097743326855,
          -0.37374222520621286,
          -0.47568977091460046,
          -0.0982832869157129,
          -1.3802260165154472,
          0.049718578362914836,
          -1.7381464415279322,
          0.5957422192341676,
          -0.9313682232290872,
          -0.7924445845926547,
          -0.03531017041605964,
          0.0660642385036686,
          -1.349772384884555,
          -0.043050771911059334,
          1.6444359954595917
         ],
         "yaxis": "y"
        },
        {
         "hovertemplate": "win_category=Below 50%<br>PC1=%{x}<br>PC5=%{y}<extra></extra>",
         "legendgroup": "Below 50%",
         "marker": {
          "color": "#EF553B",
          "symbol": "circle"
         },
         "mode": "markers",
         "name": "Below 50%",
         "orientation": "v",
         "showlegend": true,
         "type": "scatter",
         "x": [
          1.511503010923025,
          1.8795641817834545,
          3.8136436957923476,
          1.2570440804591343,
          1.6211725651549223,
          1.8446435617074868,
          -1.2095808190272643,
          1.4492272119483893,
          5.881771562165677,
          -0.10281769850954556,
          -0.8239690896815437,
          -1.8221584338206414,
          0.2612788041303008
         ],
         "xaxis": "x",
         "y": [
          -0.5634783876990088,
          -0.1860369924089968,
          0.4318231502615739,
          -0.36215451147939703,
          0.8631342427799927,
          0.5830276997564676,
          2.613506796966548,
          0.24752973630071667,
          0.47415392512756244,
          1.9027627585584683,
          0.14814432929079793,
          -1.6921547518061397,
          1.1984891812521443
         ],
         "yaxis": "y"
        }
       ],
       "layout": {
        "legend": {
         "title": {
          "text": "win_category"
         },
         "tracegroupgap": 0
        },
        "margin": {
         "t": 60
        },
        "template": {
         "data": {
          "bar": [
           {
            "error_x": {
             "color": "#2a3f5f"
            },
            "error_y": {
             "color": "#2a3f5f"
            },
            "marker": {
             "line": {
              "color": "#E5ECF6",
              "width": 0.5
             },
             "pattern": {
              "fillmode": "overlay",
              "size": 10,
              "solidity": 0.2
             }
            },
            "type": "bar"
           }
          ],
          "barpolar": [
           {
            "marker": {
             "line": {
              "color": "#E5ECF6",
              "width": 0.5
             },
             "pattern": {
              "fillmode": "overlay",
              "size": 10,
              "solidity": 0.2
             }
            },
            "type": "barpolar"
           }
          ],
          "carpet": [
           {
            "aaxis": {
             "endlinecolor": "#2a3f5f",
             "gridcolor": "white",
             "linecolor": "white",
             "minorgridcolor": "white",
             "startlinecolor": "#2a3f5f"
            },
            "baxis": {
             "endlinecolor": "#2a3f5f",
             "gridcolor": "white",
             "linecolor": "white",
             "minorgridcolor": "white",
             "startlinecolor": "#2a3f5f"
            },
            "type": "carpet"
           }
          ],
          "choropleth": [
           {
            "colorbar": {
             "outlinewidth": 0,
             "ticks": ""
            },
            "type": "choropleth"
           }
          ],
          "contour": [
           {
            "colorbar": {
             "outlinewidth": 0,
             "ticks": ""
            },
            "colorscale": [
             [
              0,
              "#0d0887"
             ],
             [
              0.1111111111111111,
              "#46039f"
             ],
             [
              0.2222222222222222,
              "#7201a8"
             ],
             [
              0.3333333333333333,
              "#9c179e"
             ],
             [
              0.4444444444444444,
              "#bd3786"
             ],
             [
              0.5555555555555556,
              "#d8576b"
             ],
             [
              0.6666666666666666,
              "#ed7953"
             ],
             [
              0.7777777777777778,
              "#fb9f3a"
             ],
             [
              0.8888888888888888,
              "#fdca26"
             ],
             [
              1,
              "#f0f921"
             ]
            ],
            "type": "contour"
           }
          ],
          "contourcarpet": [
           {
            "colorbar": {
             "outlinewidth": 0,
             "ticks": ""
            },
            "type": "contourcarpet"
           }
          ],
          "heatmap": [
           {
            "colorbar": {
             "outlinewidth": 0,
             "ticks": ""
            },
            "colorscale": [
             [
              0,
              "#0d0887"
             ],
             [
              0.1111111111111111,
              "#46039f"
             ],
             [
              0.2222222222222222,
              "#7201a8"
             ],
             [
              0.3333333333333333,
              "#9c179e"
             ],
             [
              0.4444444444444444,
              "#bd3786"
             ],
             [
              0.5555555555555556,
              "#d8576b"
             ],
             [
              0.6666666666666666,
              "#ed7953"
             ],
             [
              0.7777777777777778,
              "#fb9f3a"
             ],
             [
              0.8888888888888888,
              "#fdca26"
             ],
             [
              1,
              "#f0f921"
             ]
            ],
            "type": "heatmap"
           }
          ],
          "heatmapgl": [
           {
            "colorbar": {
             "outlinewidth": 0,
             "ticks": ""
            },
            "colorscale": [
             [
              0,
              "#0d0887"
             ],
             [
              0.1111111111111111,
              "#46039f"
             ],
             [
              0.2222222222222222,
              "#7201a8"
             ],
             [
              0.3333333333333333,
              "#9c179e"
             ],
             [
              0.4444444444444444,
              "#bd3786"
             ],
             [
              0.5555555555555556,
              "#d8576b"
             ],
             [
              0.6666666666666666,
              "#ed7953"
             ],
             [
              0.7777777777777778,
              "#fb9f3a"
             ],
             [
              0.8888888888888888,
              "#fdca26"
             ],
             [
              1,
              "#f0f921"
             ]
            ],
            "type": "heatmapgl"
           }
          ],
          "histogram": [
           {
            "marker": {
             "pattern": {
              "fillmode": "overlay",
              "size": 10,
              "solidity": 0.2
             }
            },
            "type": "histogram"
           }
          ],
          "histogram2d": [
           {
            "colorbar": {
             "outlinewidth": 0,
             "ticks": ""
            },
            "colorscale": [
             [
              0,
              "#0d0887"
             ],
             [
              0.1111111111111111,
              "#46039f"
             ],
             [
              0.2222222222222222,
              "#7201a8"
             ],
             [
              0.3333333333333333,
              "#9c179e"
             ],
             [
              0.4444444444444444,
              "#bd3786"
             ],
             [
              0.5555555555555556,
              "#d8576b"
             ],
             [
              0.6666666666666666,
              "#ed7953"
             ],
             [
              0.7777777777777778,
              "#fb9f3a"
             ],
             [
              0.8888888888888888,
              "#fdca26"
             ],
             [
              1,
              "#f0f921"
             ]
            ],
            "type": "histogram2d"
           }
          ],
          "histogram2dcontour": [
           {
            "colorbar": {
             "outlinewidth": 0,
             "ticks": ""
            },
            "colorscale": [
             [
              0,
              "#0d0887"
             ],
             [
              0.1111111111111111,
              "#46039f"
             ],
             [
              0.2222222222222222,
              "#7201a8"
             ],
             [
              0.3333333333333333,
              "#9c179e"
             ],
             [
              0.4444444444444444,
              "#bd3786"
             ],
             [
              0.5555555555555556,
              "#d8576b"
             ],
             [
              0.6666666666666666,
              "#ed7953"
             ],
             [
              0.7777777777777778,
              "#fb9f3a"
             ],
             [
              0.8888888888888888,
              "#fdca26"
             ],
             [
              1,
              "#f0f921"
             ]
            ],
            "type": "histogram2dcontour"
           }
          ],
          "mesh3d": [
           {
            "colorbar": {
             "outlinewidth": 0,
             "ticks": ""
            },
            "type": "mesh3d"
           }
          ],
          "parcoords": [
           {
            "line": {
             "colorbar": {
              "outlinewidth": 0,
              "ticks": ""
             }
            },
            "type": "parcoords"
           }
          ],
          "pie": [
           {
            "automargin": true,
            "type": "pie"
           }
          ],
          "scatter": [
           {
            "marker": {
             "colorbar": {
              "outlinewidth": 0,
              "ticks": ""
             }
            },
            "type": "scatter"
           }
          ],
          "scatter3d": [
           {
            "line": {
             "colorbar": {
              "outlinewidth": 0,
              "ticks": ""
             }
            },
            "marker": {
             "colorbar": {
              "outlinewidth": 0,
              "ticks": ""
             }
            },
            "type": "scatter3d"
           }
          ],
          "scattercarpet": [
           {
            "marker": {
             "colorbar": {
              "outlinewidth": 0,
              "ticks": ""
             }
            },
            "type": "scattercarpet"
           }
          ],
          "scattergeo": [
           {
            "marker": {
             "colorbar": {
              "outlinewidth": 0,
              "ticks": ""
             }
            },
            "type": "scattergeo"
           }
          ],
          "scattergl": [
           {
            "marker": {
             "colorbar": {
              "outlinewidth": 0,
              "ticks": ""
             }
            },
            "type": "scattergl"
           }
          ],
          "scattermapbox": [
           {
            "marker": {
             "colorbar": {
              "outlinewidth": 0,
              "ticks": ""
             }
            },
            "type": "scattermapbox"
           }
          ],
          "scatterpolar": [
           {
            "marker": {
             "colorbar": {
              "outlinewidth": 0,
              "ticks": ""
             }
            },
            "type": "scatterpolar"
           }
          ],
          "scatterpolargl": [
           {
            "marker": {
             "colorbar": {
              "outlinewidth": 0,
              "ticks": ""
             }
            },
            "type": "scatterpolargl"
           }
          ],
          "scatterternary": [
           {
            "marker": {
             "colorbar": {
              "outlinewidth": 0,
              "ticks": ""
             }
            },
            "type": "scatterternary"
           }
          ],
          "surface": [
           {
            "colorbar": {
             "outlinewidth": 0,
             "ticks": ""
            },
            "colorscale": [
             [
              0,
              "#0d0887"
             ],
             [
              0.1111111111111111,
              "#46039f"
             ],
             [
              0.2222222222222222,
              "#7201a8"
             ],
             [
              0.3333333333333333,
              "#9c179e"
             ],
             [
              0.4444444444444444,
              "#bd3786"
             ],
             [
              0.5555555555555556,
              "#d8576b"
             ],
             [
              0.6666666666666666,
              "#ed7953"
             ],
             [
              0.7777777777777778,
              "#fb9f3a"
             ],
             [
              0.8888888888888888,
              "#fdca26"
             ],
             [
              1,
              "#f0f921"
             ]
            ],
            "type": "surface"
           }
          ],
          "table": [
           {
            "cells": {
             "fill": {
              "color": "#EBF0F8"
             },
             "line": {
              "color": "white"
             }
            },
            "header": {
             "fill": {
              "color": "#C8D4E3"
             },
             "line": {
              "color": "white"
             }
            },
            "type": "table"
           }
          ]
         },
         "layout": {
          "annotationdefaults": {
           "arrowcolor": "#2a3f5f",
           "arrowhead": 0,
           "arrowwidth": 1
          },
          "autotypenumbers": "strict",
          "coloraxis": {
           "colorbar": {
            "outlinewidth": 0,
            "ticks": ""
           }
          },
          "colorscale": {
           "diverging": [
            [
             0,
             "#8e0152"
            ],
            [
             0.1,
             "#c51b7d"
            ],
            [
             0.2,
             "#de77ae"
            ],
            [
             0.3,
             "#f1b6da"
            ],
            [
             0.4,
             "#fde0ef"
            ],
            [
             0.5,
             "#f7f7f7"
            ],
            [
             0.6,
             "#e6f5d0"
            ],
            [
             0.7,
             "#b8e186"
            ],
            [
             0.8,
             "#7fbc41"
            ],
            [
             0.9,
             "#4d9221"
            ],
            [
             1,
             "#276419"
            ]
           ],
           "sequential": [
            [
             0,
             "#0d0887"
            ],
            [
             0.1111111111111111,
             "#46039f"
            ],
            [
             0.2222222222222222,
             "#7201a8"
            ],
            [
             0.3333333333333333,
             "#9c179e"
            ],
            [
             0.4444444444444444,
             "#bd3786"
            ],
            [
             0.5555555555555556,
             "#d8576b"
            ],
            [
             0.6666666666666666,
             "#ed7953"
            ],
            [
             0.7777777777777778,
             "#fb9f3a"
            ],
            [
             0.8888888888888888,
             "#fdca26"
            ],
            [
             1,
             "#f0f921"
            ]
           ],
           "sequentialminus": [
            [
             0,
             "#0d0887"
            ],
            [
             0.1111111111111111,
             "#46039f"
            ],
            [
             0.2222222222222222,
             "#7201a8"
            ],
            [
             0.3333333333333333,
             "#9c179e"
            ],
            [
             0.4444444444444444,
             "#bd3786"
            ],
            [
             0.5555555555555556,
             "#d8576b"
            ],
            [
             0.6666666666666666,
             "#ed7953"
            ],
            [
             0.7777777777777778,
             "#fb9f3a"
            ],
            [
             0.8888888888888888,
             "#fdca26"
            ],
            [
             1,
             "#f0f921"
            ]
           ]
          },
          "colorway": [
           "#636efa",
           "#EF553B",
           "#00cc96",
           "#ab63fa",
           "#FFA15A",
           "#19d3f3",
           "#FF6692",
           "#B6E880",
           "#FF97FF",
           "#FECB52"
          ],
          "font": {
           "color": "#2a3f5f"
          },
          "geo": {
           "bgcolor": "white",
           "lakecolor": "white",
           "landcolor": "#E5ECF6",
           "showlakes": true,
           "showland": true,
           "subunitcolor": "white"
          },
          "hoverlabel": {
           "align": "left"
          },
          "hovermode": "closest",
          "mapbox": {
           "style": "light"
          },
          "paper_bgcolor": "white",
          "plot_bgcolor": "#E5ECF6",
          "polar": {
           "angularaxis": {
            "gridcolor": "white",
            "linecolor": "white",
            "ticks": ""
           },
           "bgcolor": "#E5ECF6",
           "radialaxis": {
            "gridcolor": "white",
            "linecolor": "white",
            "ticks": ""
           }
          },
          "scene": {
           "xaxis": {
            "backgroundcolor": "#E5ECF6",
            "gridcolor": "white",
            "gridwidth": 2,
            "linecolor": "white",
            "showbackground": true,
            "ticks": "",
            "zerolinecolor": "white"
           },
           "yaxis": {
            "backgroundcolor": "#E5ECF6",
            "gridcolor": "white",
            "gridwidth": 2,
            "linecolor": "white",
            "showbackground": true,
            "ticks": "",
            "zerolinecolor": "white"
           },
           "zaxis": {
            "backgroundcolor": "#E5ECF6",
            "gridcolor": "white",
            "gridwidth": 2,
            "linecolor": "white",
            "showbackground": true,
            "ticks": "",
            "zerolinecolor": "white"
           }
          },
          "shapedefaults": {
           "line": {
            "color": "#2a3f5f"
           }
          },
          "ternary": {
           "aaxis": {
            "gridcolor": "white",
            "linecolor": "white",
            "ticks": ""
           },
           "baxis": {
            "gridcolor": "white",
            "linecolor": "white",
            "ticks": ""
           },
           "bgcolor": "#E5ECF6",
           "caxis": {
            "gridcolor": "white",
            "linecolor": "white",
            "ticks": ""
           }
          },
          "title": {
           "x": 0.05
          },
          "xaxis": {
           "automargin": true,
           "gridcolor": "white",
           "linecolor": "white",
           "ticks": "",
           "title": {
            "standoff": 15
           },
           "zerolinecolor": "white",
           "zerolinewidth": 2
          },
          "yaxis": {
           "automargin": true,
           "gridcolor": "white",
           "linecolor": "white",
           "ticks": "",
           "title": {
            "standoff": 15
           },
           "zerolinecolor": "white",
           "zerolinewidth": 2
          }
         }
        },
        "xaxis": {
         "anchor": "y",
         "domain": [
          0,
          1
         ],
         "title": {
          "text": "PC1"
         }
        },
        "yaxis": {
         "anchor": "x",
         "domain": [
          0,
          1
         ],
         "title": {
          "text": "PC5"
         }
        }
       }
      }
     },
     "metadata": {},
     "output_type": "display_data"
    },
    {
     "data": {
      "application/vnd.plotly.v1+json": {
       "config": {
        "plotlyServerURL": "https://plot.ly"
       },
       "data": [
        {
         "hovertemplate": "win_category=Above 50%<br>PC1=%{x}<br>PC3=%{y}<br>PC5=%{z}<extra></extra>",
         "legendgroup": "Above 50%",
         "marker": {
          "color": "blue",
          "size": 5,
          "symbol": "circle"
         },
         "mode": "markers",
         "name": "Above 50%",
         "scene": "scene",
         "showlegend": true,
         "type": "scatter3d",
         "x": [
          -4.815497492897099,
          1.6059168775806236,
          -1.0682767594933338,
          -1.0680274808626458,
          0.13675028861520747,
          -1.112160790943,
          -2.445560660978468,
          -1.714220415835616,
          -0.013563144145494454,
          0.7056572138930096,
          0.30410217281520474,
          -0.8521603061654971,
          -2.762239988261203,
          -2.3731243919149323,
          1.6557875203138492,
          -0.677869947007128,
          -1.0668353277392226
         ],
         "y": [
          0.25515003862501806,
          -1.7943263972967094,
          1.6935194120829304,
          0.9226836322618586,
          -0.8589019378035714,
          -0.5827254733948326,
          2.051328455283572,
          -0.20595335588109767,
          0.669968191696406,
          2.44560172170121,
          0.2815503008003703,
          -1.3235273688686104,
          -2.7225457035748906,
          -0.7435230231735717,
          1.1435290866231227,
          0.6212829153792441,
          3.699028174605955
         ],
         "z": [
          1.2524383667538816,
          -0.8370149557747792,
          -1.212097743326855,
          -0.37374222520621286,
          -0.47568977091460046,
          -0.0982832869157129,
          -1.3802260165154472,
          0.049718578362914836,
          -1.7381464415279322,
          0.5957422192341676,
          -0.9313682232290872,
          -0.7924445845926547,
          -0.03531017041605964,
          0.0660642385036686,
          -1.349772384884555,
          -0.043050771911059334,
          1.6444359954595917
         ]
        },
        {
         "hovertemplate": "win_category=Below 50%<br>PC1=%{x}<br>PC3=%{y}<br>PC5=%{z}<extra></extra>",
         "legendgroup": "Below 50%",
         "marker": {
          "color": "red",
          "size": 5,
          "symbol": "circle"
         },
         "mode": "markers",
         "name": "Below 50%",
         "scene": "scene",
         "showlegend": true,
         "type": "scatter3d",
         "x": [
          1.511503010923025,
          1.8795641817834545,
          3.8136436957923476,
          1.2570440804591343,
          1.6211725651549223,
          1.8446435617074868,
          -1.2095808190272643,
          1.4492272119483893,
          5.881771562165677,
          -0.10281769850954556,
          -0.8239690896815437,
          -1.8221584338206414,
          0.2612788041303008
         ],
         "y": [
          1.9158627766671708,
          -0.3621914381522149,
          0.5246015873284099,
          -1.5923007847689608,
          0.8517314000514531,
          -0.20867655053203601,
          -1.9028014784289742,
          -0.0453157737202859,
          -1.6527992562241758,
          -2.39305563863581,
          0.9105364320387636,
          -3.116933105987502,
          1.5192031612977588
         ],
         "z": [
          -0.5634783876990088,
          -0.1860369924089968,
          0.4318231502615739,
          -0.36215451147939703,
          0.8631342427799927,
          0.5830276997564676,
          2.613506796966548,
          0.24752973630071667,
          0.47415392512756244,
          1.9027627585584683,
          0.14814432929079793,
          -1.6921547518061397,
          1.1984891812521443
         ]
        }
       ],
       "layout": {
        "legend": {
         "title": {
          "text": "win_category"
         },
         "tracegroupgap": 0
        },
        "scene": {
         "domain": {
          "x": [
           0,
           1
          ],
          "y": [
           0,
           1
          ]
         },
         "xaxis": {
          "title": {
           "text": "Principal Component 1"
          }
         },
         "yaxis": {
          "title": {
           "text": "Principal Component 2"
          }
         },
         "zaxis": {
          "title": {
           "text": "Principal Component 4"
          }
         }
        },
        "template": {
         "data": {
          "bar": [
           {
            "error_x": {
             "color": "#2a3f5f"
            },
            "error_y": {
             "color": "#2a3f5f"
            },
            "marker": {
             "line": {
              "color": "#E5ECF6",
              "width": 0.5
             },
             "pattern": {
              "fillmode": "overlay",
              "size": 10,
              "solidity": 0.2
             }
            },
            "type": "bar"
           }
          ],
          "barpolar": [
           {
            "marker": {
             "line": {
              "color": "#E5ECF6",
              "width": 0.5
             },
             "pattern": {
              "fillmode": "overlay",
              "size": 10,
              "solidity": 0.2
             }
            },
            "type": "barpolar"
           }
          ],
          "carpet": [
           {
            "aaxis": {
             "endlinecolor": "#2a3f5f",
             "gridcolor": "white",
             "linecolor": "white",
             "minorgridcolor": "white",
             "startlinecolor": "#2a3f5f"
            },
            "baxis": {
             "endlinecolor": "#2a3f5f",
             "gridcolor": "white",
             "linecolor": "white",
             "minorgridcolor": "white",
             "startlinecolor": "#2a3f5f"
            },
            "type": "carpet"
           }
          ],
          "choropleth": [
           {
            "colorbar": {
             "outlinewidth": 0,
             "ticks": ""
            },
            "type": "choropleth"
           }
          ],
          "contour": [
           {
            "colorbar": {
             "outlinewidth": 0,
             "ticks": ""
            },
            "colorscale": [
             [
              0,
              "#0d0887"
             ],
             [
              0.1111111111111111,
              "#46039f"
             ],
             [
              0.2222222222222222,
              "#7201a8"
             ],
             [
              0.3333333333333333,
              "#9c179e"
             ],
             [
              0.4444444444444444,
              "#bd3786"
             ],
             [
              0.5555555555555556,
              "#d8576b"
             ],
             [
              0.6666666666666666,
              "#ed7953"
             ],
             [
              0.7777777777777778,
              "#fb9f3a"
             ],
             [
              0.8888888888888888,
              "#fdca26"
             ],
             [
              1,
              "#f0f921"
             ]
            ],
            "type": "contour"
           }
          ],
          "contourcarpet": [
           {
            "colorbar": {
             "outlinewidth": 0,
             "ticks": ""
            },
            "type": "contourcarpet"
           }
          ],
          "heatmap": [
           {
            "colorbar": {
             "outlinewidth": 0,
             "ticks": ""
            },
            "colorscale": [
             [
              0,
              "#0d0887"
             ],
             [
              0.1111111111111111,
              "#46039f"
             ],
             [
              0.2222222222222222,
              "#7201a8"
             ],
             [
              0.3333333333333333,
              "#9c179e"
             ],
             [
              0.4444444444444444,
              "#bd3786"
             ],
             [
              0.5555555555555556,
              "#d8576b"
             ],
             [
              0.6666666666666666,
              "#ed7953"
             ],
             [
              0.7777777777777778,
              "#fb9f3a"
             ],
             [
              0.8888888888888888,
              "#fdca26"
             ],
             [
              1,
              "#f0f921"
             ]
            ],
            "type": "heatmap"
           }
          ],
          "heatmapgl": [
           {
            "colorbar": {
             "outlinewidth": 0,
             "ticks": ""
            },
            "colorscale": [
             [
              0,
              "#0d0887"
             ],
             [
              0.1111111111111111,
              "#46039f"
             ],
             [
              0.2222222222222222,
              "#7201a8"
             ],
             [
              0.3333333333333333,
              "#9c179e"
             ],
             [
              0.4444444444444444,
              "#bd3786"
             ],
             [
              0.5555555555555556,
              "#d8576b"
             ],
             [
              0.6666666666666666,
              "#ed7953"
             ],
             [
              0.7777777777777778,
              "#fb9f3a"
             ],
             [
              0.8888888888888888,
              "#fdca26"
             ],
             [
              1,
              "#f0f921"
             ]
            ],
            "type": "heatmapgl"
           }
          ],
          "histogram": [
           {
            "marker": {
             "pattern": {
              "fillmode": "overlay",
              "size": 10,
              "solidity": 0.2
             }
            },
            "type": "histogram"
           }
          ],
          "histogram2d": [
           {
            "colorbar": {
             "outlinewidth": 0,
             "ticks": ""
            },
            "colorscale": [
             [
              0,
              "#0d0887"
             ],
             [
              0.1111111111111111,
              "#46039f"
             ],
             [
              0.2222222222222222,
              "#7201a8"
             ],
             [
              0.3333333333333333,
              "#9c179e"
             ],
             [
              0.4444444444444444,
              "#bd3786"
             ],
             [
              0.5555555555555556,
              "#d8576b"
             ],
             [
              0.6666666666666666,
              "#ed7953"
             ],
             [
              0.7777777777777778,
              "#fb9f3a"
             ],
             [
              0.8888888888888888,
              "#fdca26"
             ],
             [
              1,
              "#f0f921"
             ]
            ],
            "type": "histogram2d"
           }
          ],
          "histogram2dcontour": [
           {
            "colorbar": {
             "outlinewidth": 0,
             "ticks": ""
            },
            "colorscale": [
             [
              0,
              "#0d0887"
             ],
             [
              0.1111111111111111,
              "#46039f"
             ],
             [
              0.2222222222222222,
              "#7201a8"
             ],
             [
              0.3333333333333333,
              "#9c179e"
             ],
             [
              0.4444444444444444,
              "#bd3786"
             ],
             [
              0.5555555555555556,
              "#d8576b"
             ],
             [
              0.6666666666666666,
              "#ed7953"
             ],
             [
              0.7777777777777778,
              "#fb9f3a"
             ],
             [
              0.8888888888888888,
              "#fdca26"
             ],
             [
              1,
              "#f0f921"
             ]
            ],
            "type": "histogram2dcontour"
           }
          ],
          "mesh3d": [
           {
            "colorbar": {
             "outlinewidth": 0,
             "ticks": ""
            },
            "type": "mesh3d"
           }
          ],
          "parcoords": [
           {
            "line": {
             "colorbar": {
              "outlinewidth": 0,
              "ticks": ""
             }
            },
            "type": "parcoords"
           }
          ],
          "pie": [
           {
            "automargin": true,
            "type": "pie"
           }
          ],
          "scatter": [
           {
            "marker": {
             "colorbar": {
              "outlinewidth": 0,
              "ticks": ""
             }
            },
            "type": "scatter"
           }
          ],
          "scatter3d": [
           {
            "line": {
             "colorbar": {
              "outlinewidth": 0,
              "ticks": ""
             }
            },
            "marker": {
             "colorbar": {
              "outlinewidth": 0,
              "ticks": ""
             }
            },
            "type": "scatter3d"
           }
          ],
          "scattercarpet": [
           {
            "marker": {
             "colorbar": {
              "outlinewidth": 0,
              "ticks": ""
             }
            },
            "type": "scattercarpet"
           }
          ],
          "scattergeo": [
           {
            "marker": {
             "colorbar": {
              "outlinewidth": 0,
              "ticks": ""
             }
            },
            "type": "scattergeo"
           }
          ],
          "scattergl": [
           {
            "marker": {
             "colorbar": {
              "outlinewidth": 0,
              "ticks": ""
             }
            },
            "type": "scattergl"
           }
          ],
          "scattermapbox": [
           {
            "marker": {
             "colorbar": {
              "outlinewidth": 0,
              "ticks": ""
             }
            },
            "type": "scattermapbox"
           }
          ],
          "scatterpolar": [
           {
            "marker": {
             "colorbar": {
              "outlinewidth": 0,
              "ticks": ""
             }
            },
            "type": "scatterpolar"
           }
          ],
          "scatterpolargl": [
           {
            "marker": {
             "colorbar": {
              "outlinewidth": 0,
              "ticks": ""
             }
            },
            "type": "scatterpolargl"
           }
          ],
          "scatterternary": [
           {
            "marker": {
             "colorbar": {
              "outlinewidth": 0,
              "ticks": ""
             }
            },
            "type": "scatterternary"
           }
          ],
          "surface": [
           {
            "colorbar": {
             "outlinewidth": 0,
             "ticks": ""
            },
            "colorscale": [
             [
              0,
              "#0d0887"
             ],
             [
              0.1111111111111111,
              "#46039f"
             ],
             [
              0.2222222222222222,
              "#7201a8"
             ],
             [
              0.3333333333333333,
              "#9c179e"
             ],
             [
              0.4444444444444444,
              "#bd3786"
             ],
             [
              0.5555555555555556,
              "#d8576b"
             ],
             [
              0.6666666666666666,
              "#ed7953"
             ],
             [
              0.7777777777777778,
              "#fb9f3a"
             ],
             [
              0.8888888888888888,
              "#fdca26"
             ],
             [
              1,
              "#f0f921"
             ]
            ],
            "type": "surface"
           }
          ],
          "table": [
           {
            "cells": {
             "fill": {
              "color": "#EBF0F8"
             },
             "line": {
              "color": "white"
             }
            },
            "header": {
             "fill": {
              "color": "#C8D4E3"
             },
             "line": {
              "color": "white"
             }
            },
            "type": "table"
           }
          ]
         },
         "layout": {
          "annotationdefaults": {
           "arrowcolor": "#2a3f5f",
           "arrowhead": 0,
           "arrowwidth": 1
          },
          "autotypenumbers": "strict",
          "coloraxis": {
           "colorbar": {
            "outlinewidth": 0,
            "ticks": ""
           }
          },
          "colorscale": {
           "diverging": [
            [
             0,
             "#8e0152"
            ],
            [
             0.1,
             "#c51b7d"
            ],
            [
             0.2,
             "#de77ae"
            ],
            [
             0.3,
             "#f1b6da"
            ],
            [
             0.4,
             "#fde0ef"
            ],
            [
             0.5,
             "#f7f7f7"
            ],
            [
             0.6,
             "#e6f5d0"
            ],
            [
             0.7,
             "#b8e186"
            ],
            [
             0.8,
             "#7fbc41"
            ],
            [
             0.9,
             "#4d9221"
            ],
            [
             1,
             "#276419"
            ]
           ],
           "sequential": [
            [
             0,
             "#0d0887"
            ],
            [
             0.1111111111111111,
             "#46039f"
            ],
            [
             0.2222222222222222,
             "#7201a8"
            ],
            [
             0.3333333333333333,
             "#9c179e"
            ],
            [
             0.4444444444444444,
             "#bd3786"
            ],
            [
             0.5555555555555556,
             "#d8576b"
            ],
            [
             0.6666666666666666,
             "#ed7953"
            ],
            [
             0.7777777777777778,
             "#fb9f3a"
            ],
            [
             0.8888888888888888,
             "#fdca26"
            ],
            [
             1,
             "#f0f921"
            ]
           ],
           "sequentialminus": [
            [
             0,
             "#0d0887"
            ],
            [
             0.1111111111111111,
             "#46039f"
            ],
            [
             0.2222222222222222,
             "#7201a8"
            ],
            [
             0.3333333333333333,
             "#9c179e"
            ],
            [
             0.4444444444444444,
             "#bd3786"
            ],
            [
             0.5555555555555556,
             "#d8576b"
            ],
            [
             0.6666666666666666,
             "#ed7953"
            ],
            [
             0.7777777777777778,
             "#fb9f3a"
            ],
            [
             0.8888888888888888,
             "#fdca26"
            ],
            [
             1,
             "#f0f921"
            ]
           ]
          },
          "colorway": [
           "#636efa",
           "#EF553B",
           "#00cc96",
           "#ab63fa",
           "#FFA15A",
           "#19d3f3",
           "#FF6692",
           "#B6E880",
           "#FF97FF",
           "#FECB52"
          ],
          "font": {
           "color": "#2a3f5f"
          },
          "geo": {
           "bgcolor": "white",
           "lakecolor": "white",
           "landcolor": "#E5ECF6",
           "showlakes": true,
           "showland": true,
           "subunitcolor": "white"
          },
          "hoverlabel": {
           "align": "left"
          },
          "hovermode": "closest",
          "mapbox": {
           "style": "light"
          },
          "paper_bgcolor": "white",
          "plot_bgcolor": "#E5ECF6",
          "polar": {
           "angularaxis": {
            "gridcolor": "white",
            "linecolor": "white",
            "ticks": ""
           },
           "bgcolor": "#E5ECF6",
           "radialaxis": {
            "gridcolor": "white",
            "linecolor": "white",
            "ticks": ""
           }
          },
          "scene": {
           "xaxis": {
            "backgroundcolor": "#E5ECF6",
            "gridcolor": "white",
            "gridwidth": 2,
            "linecolor": "white",
            "showbackground": true,
            "ticks": "",
            "zerolinecolor": "white"
           },
           "yaxis": {
            "backgroundcolor": "#E5ECF6",
            "gridcolor": "white",
            "gridwidth": 2,
            "linecolor": "white",
            "showbackground": true,
            "ticks": "",
            "zerolinecolor": "white"
           },
           "zaxis": {
            "backgroundcolor": "#E5ECF6",
            "gridcolor": "white",
            "gridwidth": 2,
            "linecolor": "white",
            "showbackground": true,
            "ticks": "",
            "zerolinecolor": "white"
           }
          },
          "shapedefaults": {
           "line": {
            "color": "#2a3f5f"
           }
          },
          "ternary": {
           "aaxis": {
            "gridcolor": "white",
            "linecolor": "white",
            "ticks": ""
           },
           "baxis": {
            "gridcolor": "white",
            "linecolor": "white",
            "ticks": ""
           },
           "bgcolor": "#E5ECF6",
           "caxis": {
            "gridcolor": "white",
            "linecolor": "white",
            "ticks": ""
           }
          },
          "title": {
           "x": 0.05
          },
          "xaxis": {
           "automargin": true,
           "gridcolor": "white",
           "linecolor": "white",
           "ticks": "",
           "title": {
            "standoff": 15
           },
           "zerolinecolor": "white",
           "zerolinewidth": 2
          },
          "yaxis": {
           "automargin": true,
           "gridcolor": "white",
           "linecolor": "white",
           "ticks": "",
           "title": {
            "standoff": 15
           },
           "zerolinecolor": "white",
           "zerolinewidth": 2
          }
         }
        },
        "title": {
         "text": "3D Scatter Plot of PCA Components vs Win Percentage"
        }
       }
      }
     },
     "metadata": {},
     "output_type": "display_data"
    }
   ],
   "source": [
    "filtered_df = gameDataframe[gameDataframe['game_date'].dt.year >= 2023]\n",
    "# print(filtered_df)\n",
    "filtered_df['wl_home'] = filtered_df['wl_home'].map({'W': 1, 'L': 0})\n",
    "filtered_df = filtered_df.reset_index(drop=True)\n",
    "filtered_df = filtered_df.sort_values(by='game_date')\n",
    "\n",
    "\n",
    "mean_last_20_to_11_games = (\n",
    "    filtered_df.groupby('team_name_home')\n",
    "    .apply(lambda x: x.iloc[-11:-2].select_dtypes(include='number').mean())  \n",
    "    .drop(columns=['season_id','team_id_home','game_id'])\n",
    "    .reset_index(drop = True)\n",
    "    # .drop(columns=['wl_home'])  # Optional: Drop 'wl_home' if it's not needed in the result\n",
    ")\n",
    "\n",
    "\n",
    "mean_last_10_games = (\n",
    "    filtered_df.groupby('team_name_home')\n",
    "    .apply(lambda x: x.tail(10).select_dtypes(include='number').mean()) \n",
    "    .drop(columns=['season_id','team_id_home','game_id'])\n",
    "    .reset_index(drop = True)\n",
    "    # .drop(columns=['wl_home'])  # Optional: Drop 'wl_home' if it's not needed in the result\n",
    ")\n",
    "\n",
    "\n",
    "ten_to_twenty_games_win = mean_last_20_to_11_games[\"wl_home\"]\n",
    "last_ten_games_win = mean_last_10_games[\"wl_home\"]\n",
    "correlations = mean_last_20_to_11_games.corr()['wl_home'].sort_values(ascending=False)\n",
    "remainingFeatures = correlations[correlations > .15].index #indexes of all features with a correlations above 15 percent towards the win or loss of a home team\n",
    "\n",
    "\n",
    "scaler = StandardScaler()\n",
    "mean_last_20_to_11_games = mean_last_20_to_11_games[remainingFeatures]\n",
    "reducedData = mean_last_20_to_11_games.drop(columns=['wl_home'])\n",
    "rows_with_na = reducedData.isna().any(axis=1)\n",
    "reducedData = reducedData.dropna()\n",
    "scaledData = scaler.fit_transform(reducedData)\n",
    "pca = PCA()\n",
    "pcaData = pca.fit_transform(scaledData)\n",
    "\n",
    "# percentVar = np.round(pca.explained_variance_ratio_[:12]*100,decimals= 1)\n",
    "# labels = ['PC' + str(x) for x in range(1,13)]\n",
    "# plt.bar(x = range(1,13),height=percentVar,tick_label = labels)\n",
    "# plt.ylabel('Percentage of Explained Variance')\n",
    "# plt.xlabel('Principal Component')\n",
    "# plt.title('Scree Plot')\n",
    "\n",
    "pca_df = pd.DataFrame(pcaData, columns=[f'PC{i+1}' for i in range(pcaData.shape[1])]) #top 10 principal components account for ~90% variance \n",
    "\n",
    "# pca_df['wl_home'] = last_ten_games_win\n",
    "pca_df['wl_home'] = ten_to_twenty_games_win\n",
    "\n",
    "# print(pca_df)\n",
    "pcacorrelations_with_win = pca_df.corr()['wl_home'].drop('wl_home').abs().sort_values(ascending=False)\n",
    "remainingPCAFeatures = pcacorrelations_with_win[pcacorrelations_with_win > .15].index\n",
    "pcacorrelations_with_win = pca_df.corr()['wl_home'].drop('wl_home').sort_values(ascending=False)\n",
    "print(remainingPCAFeatures)\n",
    "\n",
    "#################################################################\n",
    "\n",
    "plt.figure(figsize=(10, 6))\n",
    "plt.bar(pcacorrelations_with_win.index, pcacorrelations_with_win.values, color='skyblue')\n",
    "plt.axhline(0, color='black', linewidth=0.8, linestyle='--')\n",
    "plt.title('Correlation of Principal Components with Winning')\n",
    "plt.xlabel('Principal Components')\n",
    "plt.ylabel('Correlation with Winning (wl_home)')\n",
    "plt.xticks(rotation=45)  # Rotate x labels for better readability\n",
    "plt.tight_layout()\n",
    "plt.show()\n",
    "\n",
    "pca_df['win_category'] = np.where(pca_df['wl_home'] >= 0.5, 'Above 50%', 'Below 50%')\n",
    "\n",
    "# # fig = px.scatter_3d(pca_df, x='PC1', y='PC2', z='PC4', color='wl_home',\n",
    "# #                     labels={'wl_home': 'Win Percentage'},\n",
    "# #                     title='3D Scatter Plot of PCA Components vs Win Percentage',\n",
    "# #                     color_continuous_scale=px.colors.sequential.Viridis)\n",
    "\n",
    "fig = px.scatter(pca_df,x = 'PC1', y= 'PC5', color = 'win_category')\n",
    "fig.show()\n",
    "\n",
    "# 3D Scatter Plot using Plotly with 2 color categories\n",
    "fig = px.scatter_3d(pca_df, x='PC1', y='PC3', z='PC5', color='win_category',\n",
    "                    color_discrete_map={'Above 50%': 'blue', 'Below 50%': 'red'},\n",
    "                    title='3D Scatter Plot of PCA Components vs Win Percentage')\n",
    "\n",
    "# Update layout for better readability\n",
    "fig.update_traces(marker=dict(size=5))  # Adjust marker size if needed\n",
    "fig.update_layout(scene=dict(\n",
    "    xaxis_title='Principal Component 1',\n",
    "    yaxis_title='Principal Component 2',\n",
    "    zaxis_title='Principal Component 4',\n",
    "))\n",
    "\n",
    "fig.show()\n"
   ]
  },
  {
   "cell_type": "markdown",
   "metadata": {},
   "source": [
    "This portion of the data reduction is much more relevant towards the scope of our project. By focusing on the mean of the features of each team from their last 10 games, we can get a good understanding of how the team is performing in general at the time of their upcoming games, as well as the most important features that are contributing towards their wins or losses. \n",
    "\n",
    "By identifying the principal components that are most directly correlated (positive or negative), we a good idea of predicting the outcomes of future games by using these principal components and seeing how they reflect a team leading up to their future games.\n",
    "\n",
    "Looking at the bar graph from the second graphic, we can see that there are several PC's that are heavily correlated with winning. PC1 and PC2 are negatively correlated with winning, and PC4 is positively correlated with winning. While not perfect, we can get a general understanding of this by plotting it in a 3-Dimensional space as graphic #3 has done. As you can see, when we move towards a higher value of PC1 and PC2, the percentage of winning goes down, and conversely when we move towards a lower value of PC1 and PC2 winning goes up. The opposite can be true of PC4. While this portion of our project is not used to draw definitive conclusions or predictions, this can establish a solid foundation for our machine learning models to use when predicting the outcome of games."
   ]
  },
  {
   "cell_type": "code",
   "execution_count": 5,
   "metadata": {},
   "outputs": [
    {
     "name": "stdout",
     "output_type": "stream",
     "text": [
      "Accuracy: 0.6000\n",
      "ROC-AUC: 0.7273\n"
     ]
    }
   ],
   "source": [
    "\n",
    "y_train = mean_last_20_to_11_games[\"wl_home\"].dropna()\n",
    "regressionData = pca_df[remainingPCAFeatures]\n",
    "X_train = regressionData\n",
    "\n",
    "\n",
    "###############################\n",
    "y_train = np.where(y_train >= .5, 1, 0)\n",
    "# y_test = np.where(y_test >= .5, 1, 0)\n",
    "filtered_df = filtered_df[filtered_df['team_name_home'] != 'Team LeBron']\n",
    "y_test = (\n",
    "    filtered_df.groupby('team_name_home')\n",
    "    .apply(lambda x: x.iloc[-1]['wl_home'])  # Only the latest game outcome per team\n",
    "    .reset_index(drop=True)\n",
    ")\n",
    "\n",
    "X_test = np.empty((len(y_test), X_train.shape[1]))\n",
    "logisticRegression = LogisticRegression()\n",
    "logisticRegression.fit(X_train,y_train)\n",
    "\n",
    "# y_pred = logisticRegression.predict(X_test)\n",
    "y_pred = logisticRegression.predict(X_train)\n",
    "\n",
    "# accuracy = accuracy_score(y_test,y_pred)\n",
    "# roc_auc = roc_auc_score(y_test, logisticRegression.predict_proba(X_test)[:, 1])\n",
    "\n",
    "accuracy = accuracy_score(y_test, y_pred)  # Slice predictions to match y_test\n",
    "roc_auc = roc_auc_score(y_test, logisticRegression.predict_proba(X_train)[:, 1])\n",
    "\n",
    "print(f'Accuracy: {accuracy:.4f}')\n",
    "print(f'ROC-AUC: {roc_auc:.4f}')"
   ]
  },
  {
   "cell_type": "code",
   "execution_count": 8,
   "metadata": {},
   "outputs": [],
   "source": [
    "from sklearn.ensemble import RandomForestClassifier\n",
    "from sklearn.metrics import accuracy_score, confusion_matrix, precision_score, recall_score, ConfusionMatrixDisplay\n",
    "from sklearn.model_selection import RandomizedSearchCV, train_test_split\n",
    "from scipy.stats import randint\n",
    "\n",
    "# Tree Visualisation\n",
    "# from sklearn.tree import export_graphviz\n",
    "# from IPython.display import Image\n",
    "# import graphviz"
   ]
  },
  {
   "cell_type": "code",
   "execution_count": null,
   "metadata": {},
   "outputs": [],
   "source": []
  },
  {
   "cell_type": "code",
   "execution_count": 4,
   "metadata": {},
   "outputs": [
    {
     "name": "stdout",
     "output_type": "stream",
     "text": [
      "Number of clusters: 35\n",
      "Number of \"outliers\": 1226\n",
      "N: 30421\n"
     ]
    }
   ],
   "source": [
    "filtered_df = gameDataframe[gameDataframe['game_date'].dt.year >= 2000].copy()\n",
    "filtered_df['wl_home'] = filtered_df['wl_home'].map({'W': 1, 'L': 0})\n",
    "filtered_df.reset_index(drop=True, inplace=True)\n",
    "filtered_df.dropna(inplace=True)\n",
    "\n",
    "non_numeric_columns = filtered_df.select_dtypes(exclude=[np.number]).columns\n",
    "filtered_df = filtered_df.select_dtypes(include=[np.number])\n",
    "\n",
    "correlations = filtered_df.corr()['wl_home'].abs().sort_values(ascending=False)\n",
    "\n",
    "remainingFeatures = correlations[correlations > .15].index \n",
    "\n",
    "scaler = StandardScaler()\n",
    "reducedData = filtered_df[remainingFeatures]\n",
    "x_set = reducedData.drop(columns='wl_home')\n",
    "y_set = reducedData['wl_home']\n",
    "x_set_scaled = scaler.fit_transform(x_set)\n",
    "\n",
    "pca_3 = PCA(n_components=3)\n",
    "new_dataset = pca_3.fit_transform(x_set_scaled) # scaledData is just X\n",
    "\n",
    "#########\n",
    "\n",
    "clustering = DBSCAN()\n",
    "clustering.fit(new_dataset)\n",
    "print(f'Number of clusters: {len(np.unique(clustering.labels_))}')\n",
    "print(f'Number of \"outliers\": {len(np.where(clustering.labels_ == -1)[0])}')\n",
    "print(f'N: {len(x_set)}')\n",
    "\n",
    "# Do we want to delete these \"outliers\" from the dataset?"
   ]
  },
  {
   "cell_type": "code",
   "execution_count": 5,
   "metadata": {},
   "outputs": [],
   "source": [
    "cleaned_game_stats_home = filtered_df.iloc[:, 7:28].copy() # only the home numerical data\n",
    "# print(cleaned_game_stats_home)\n",
    "cleaned_game_stats_home.dropna(inplace=True)\n",
    "x_set = cleaned_game_stats_home.iloc[:, 1:]\n",
    "# print(x_set)\n",
    "x_set_std = (x_set-x_set.mean())/x_set.std()\n",
    "y_set = cleaned_game_stats_home.iloc[:, 0]\n",
    "# print(y_set)"
   ]
  },
  {
   "cell_type": "code",
   "execution_count": 6,
   "metadata": {},
   "outputs": [
    {
     "data": {
      "text/plain": [
       "array([ 9, 14, 15])"
      ]
     },
     "execution_count": 6,
     "metadata": {},
     "output_type": "execute_result"
    }
   ],
   "source": [
    "lasso_fit = Lasso(alpha=0.02, max_iter=10000)\n",
    "lasso_fit.fit(x_set_std, y_set)\n",
    "feats = np.where(lasso_fit.coef_ != 0)[0]\n",
    "feats"
   ]
  },
  {
   "cell_type": "code",
   "execution_count": 7,
   "metadata": {},
   "outputs": [
    {
     "name": "stdout",
     "output_type": "stream",
     "text": [
      "Number of clusters: 2564\n",
      "Number of \"outliers\": 21103\n",
      "N: 30421\n"
     ]
    }
   ],
   "source": [
    "selected_dataset = x_set.iloc[:, feats]\n",
    "\n",
    "clustering = DBSCAN(eps=0.5, min_samples=3)\n",
    "clustering.fit(selected_dataset)\n",
    "print(f'Number of clusters: {len(np.unique(clustering.labels_))}')\n",
    "print(f'Number of \"outliers\": {len(np.where(clustering.labels_ == -1)[0])}')\n",
    "print(f'N: {len(x_set)}')"
   ]
  }
 ],
 "metadata": {
  "kernelspec": {
   "display_name": "Python 3",
   "language": "python",
   "name": "python3"
  },
  "language_info": {
   "codemirror_mode": {
    "name": "ipython",
    "version": 3
   },
   "file_extension": ".py",
   "mimetype": "text/x-python",
   "name": "python",
   "nbconvert_exporter": "python",
   "pygments_lexer": "ipython3",
   "version": "3.9.12"
  }
 },
 "nbformat": 4,
 "nbformat_minor": 2
}
